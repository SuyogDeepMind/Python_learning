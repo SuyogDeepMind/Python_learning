{
 "cells": [
  {
   "cell_type": "code",
   "execution_count": 1,
   "id": "da1d7176-54b9-4916-bad3-890f9857d6b3",
   "metadata": {},
   "outputs": [
    {
     "name": "stdout",
     "output_type": "stream",
     "text": [
      "Student\n",
      "<class 'str'>\n"
     ]
    }
   ],
   "source": [
    "str = \"Student\"\n",
    "print(str)\n",
    "print(type(str))"
   ]
  },
  {
   "cell_type": "code",
   "execution_count": 3,
   "id": "a0f02987-cf84-43c2-b53b-db5639bc7c00",
   "metadata": {},
   "outputs": [
    {
     "name": "stdout",
     "output_type": "stream",
     "text": [
      "hello\n",
      "<class 'str'>\n"
     ]
    }
   ],
   "source": [
    "str1 = 'hello'\n",
    "print(str1)\n",
    "print(type(str1))"
   ]
  },
  {
   "cell_type": "code",
   "execution_count": 5,
   "id": "48d468ad-aceb-4cf0-a27e-1d16ad913970",
   "metadata": {},
   "outputs": [
    {
     "name": "stdout",
     "output_type": "stream",
     "text": [
      "Hello main jiyan,\n",
      "          Main hoon bada takatvar,mera gala hai bohot surila,\n",
      "          meri awaj sunke log hojate hai madhosh,main hoon jiyan\n"
     ]
    }
   ],
   "source": [
    "#multiline Strings\n",
    "str2 = '''Hello main jiyan,\n",
    "          Main hoon bada takatvar,mera gala hai bohot surila,\n",
    "          meri awaj sunke log hojate hai madhosh,main hoon jiyan'''\n",
    "print(str2)"
   ]
  },
  {
   "cell_type": "markdown",
   "id": "86b5d00e-b113-44a3-94c0-3eb18cf9b92f",
   "metadata": {},
   "source": [
    "# Indexing in Strings"
   ]
  },
  {
   "cell_type": "code",
   "execution_count": 20,
   "id": "7d7a7914-0602-42db-9c15-179168e9960a",
   "metadata": {},
   "outputs": [
    {
     "name": "stdout",
     "output_type": "stream",
     "text": [
      "e\n",
      "l\n",
      " \n",
      "d\n",
      "s\n",
      "n\n"
     ]
    }
   ],
   "source": [
    "a = \"hello dear learners!\"\n",
    "print(a[1])\n",
    "print(a[3])\n",
    "print(a[5]) # space at this index\n",
    "print(a[6])\n",
    "print(a[-2])\n",
    "print(a[-5])"
   ]
  },
  {
   "cell_type": "code",
   "execution_count": 24,
   "id": "5701ccdf-e258-4df7-af46-0c7abdfbb2ce",
   "metadata": {},
   "outputs": [
    {
     "name": "stdout",
     "output_type": "stream",
     "text": [
      "d l e\n"
     ]
    }
   ],
   "source": [
    "b = \"Data science is a growing field\"\n",
    "print(b[-1],b[-2],b[-3])"
   ]
  },
  {
   "cell_type": "markdown",
   "id": "ef97a18d-9602-4ff3-a443-75f1f5d28713",
   "metadata": {},
   "source": [
    "# Slicing in Strings"
   ]
  },
  {
   "cell_type": "code",
   "execution_count": 27,
   "id": "ce1c5539-7a2e-492a-9c91-21f3ac2e166e",
   "metadata": {},
   "outputs": [
    {
     "name": "stdout",
     "output_type": "stream",
     "text": [
      "I am\n"
     ]
    }
   ],
   "source": [
    "a = \"I am learning data science.\"\n",
    "print(a[0:4])"
   ]
  },
  {
   "cell_type": "code",
   "execution_count": 29,
   "id": "72f1d49c-6f9f-4a87-a411-889f67d3f569",
   "metadata": {},
   "outputs": [
    {
     "name": "stdout",
     "output_type": "stream",
     "text": [
      "I am learning data science.\n"
     ]
    }
   ],
   "source": [
    "a = \"I am learning data science.\"\n",
    "print(a[:])"
   ]
  },
  {
   "cell_type": "code",
   "execution_count": 33,
   "id": "2ad3e7e6-6650-42a7-b115-b949f439491e",
   "metadata": {},
   "outputs": [
    {
     "name": "stdout",
     "output_type": "stream",
     "text": [
      "Ia er\n"
     ]
    }
   ],
   "source": [
    "a = \"I am learning data science.\"\n",
    "print(a[0:10:2]) #(start,end,jump)"
   ]
  },
  {
   "cell_type": "code",
   "execution_count": null,
   "id": "292294d1-c0ec-41cd-9ecb-84a181a0ecc4",
   "metadata": {},
   "outputs": [],
   "source": [
    "#Negative Slicing"
   ]
  },
  {
   "cell_type": "code",
   "execution_count": 35,
   "id": "ff55bd94-c242-4258-b580-7f1cf8a17736",
   "metadata": {},
   "outputs": [
    {
     "name": "stdout",
     "output_type": "stream",
     "text": [
      "ience\n"
     ]
    }
   ],
   "source": [
    "a = \"I am learning data science.\"\n",
    "print(a[-6:-1])"
   ]
  },
  {
   "cell_type": "code",
   "execution_count": 37,
   "id": "f2a78159-9173-4676-b102-d539f734e24a",
   "metadata": {},
   "outputs": [
    {
     "name": "stdout",
     "output_type": "stream",
     "text": [
      "ng data science.\n"
     ]
    }
   ],
   "source": [
    "a = \"I am learning data science.\"\n",
    "print(a[-16:])"
   ]
  },
  {
   "cell_type": "code",
   "execution_count": 39,
   "id": "f67bb4cc-0178-4a97-bf26-e6f45744d70c",
   "metadata": {},
   "outputs": [
    {
     "name": "stdout",
     "output_type": "stream",
     "text": [
      "asine\n"
     ]
    }
   ],
   "source": [
    "a = \"I am learning data science.\"\n",
    "print(a[-10:-1:2])"
   ]
  },
  {
   "cell_type": "markdown",
   "id": "df05662e-a817-4abc-8e26-7fb08eccbc64",
   "metadata": {},
   "source": [
    "# Practise Questions"
   ]
  },
  {
   "cell_type": "code",
   "execution_count": null,
   "id": "f133cbae-8e05-4b37-971d-bbdf92581960",
   "metadata": {},
   "outputs": [],
   "source": [
    "Write a python function that takes a data string in the format \"YYYY-MM-DD\" and\n",
    "returns a tuple containing the year, month and day as an integer. \n",
    "Example input - \"2024-05-28\"\n",
    "Expected output - (2024,5,28).\n"
   ]
  },
  {
   "cell_type": "code",
   "execution_count": 56,
   "id": "73c12efa-bbf7-4885-bda8-b1cae5cbb441",
   "metadata": {},
   "outputs": [],
   "source": [
    "def extract_date(date_string):\n",
    "    year = int(date_string[0:4])\n",
    "    month = int(date_string[5:7])\n",
    "    day = int(date_string[8:])\n",
    "    return (year,month,day)\n",
    "    "
   ]
  },
  {
   "cell_type": "code",
   "execution_count": 58,
   "id": "3fc43ba2-35e4-4427-9789-3e1f750dfa07",
   "metadata": {},
   "outputs": [
    {
     "data": {
      "text/plain": [
       "(2024, 5, 28)"
      ]
     },
     "execution_count": 58,
     "metadata": {},
     "output_type": "execute_result"
    }
   ],
   "source": [
    "extract_date(\"2024-05-28\")"
   ]
  },
  {
   "cell_type": "code",
   "execution_count": null,
   "id": "f57976a1-5579-4e33-9792-1db9c266ab6d",
   "metadata": {},
   "outputs": [],
   "source": [
    "Write a python program to reverse the string.\n"
   ]
  },
  {
   "cell_type": "code",
   "execution_count": 60,
   "id": "4b8c084e-a597-4490-84a2-819070cc8157",
   "metadata": {},
   "outputs": [
    {
     "name": "stdout",
     "output_type": "stream",
     "text": [
      ".ycilop tseb eht si ytsenoH\n"
     ]
    }
   ],
   "source": [
    "str = \"Honesty is the best policy.\"\n",
    "print(str[::-1])\n"
   ]
  },
  {
   "cell_type": "code",
   "execution_count": null,
   "id": "cbf45e46-eb97-468a-9ebf-cb1887c71bc9",
   "metadata": {},
   "outputs": [],
   "source": [
    "Write a python function that takes a string as an input and returns\n",
    "the substring from the 3rd to 8th character\n",
    "#Data sciece\n",
    "#Hello i'm learning python\n",
    "#All the best"
   ]
  },
  {
   "cell_type": "code",
   "execution_count": 66,
   "id": "89dc2ccc-1560-4b9c-904f-65b172b765b5",
   "metadata": {},
   "outputs": [],
   "source": [
    "def substring(str):\n",
    "    return str[3:9]\n",
    "    "
   ]
  },
  {
   "cell_type": "code",
   "execution_count": 68,
   "id": "7f975821-f78b-454f-b57b-1e19cac06025",
   "metadata": {},
   "outputs": [
    {
     "data": {
      "text/plain": [
       "'a Scie'"
      ]
     },
     "execution_count": 68,
     "metadata": {},
     "output_type": "execute_result"
    }
   ],
   "source": [
    "substring(\"Data Science\")"
   ]
  },
  {
   "cell_type": "code",
   "execution_count": 70,
   "id": "7c3e380e-19e6-4148-801b-f8529a0c7a76",
   "metadata": {},
   "outputs": [
    {
     "data": {
      "text/plain": [
       "\"lo i'm\""
      ]
     },
     "execution_count": 70,
     "metadata": {},
     "output_type": "execute_result"
    }
   ],
   "source": [
    "substring(\"Hello i'm learning python\")"
   ]
  },
  {
   "cell_type": "code",
   "execution_count": 72,
   "id": "225b5bd2-80cc-4d90-8b33-a4b285423909",
   "metadata": {},
   "outputs": [
    {
     "data": {
      "text/plain": [
       "' the b'"
      ]
     },
     "execution_count": 72,
     "metadata": {},
     "output_type": "execute_result"
    }
   ],
   "source": [
    "substring(\"All the best\")"
   ]
  },
  {
   "cell_type": "markdown",
   "id": "df760723-6b10-4b8f-8dc0-8bfcaa1c57e5",
   "metadata": {},
   "source": [
    "# String methods"
   ]
  },
  {
   "cell_type": "code",
   "execution_count": 75,
   "id": "644a123b-03f6-4890-ab5f-fc2656937d94",
   "metadata": {},
   "outputs": [
    {
     "name": "stdout",
     "output_type": "stream",
     "text": [
      "9\n"
     ]
    }
   ],
   "source": [
    "s = \"Theiscale\"\n",
    "print(len(s))"
   ]
  },
  {
   "cell_type": "code",
   "execution_count": 77,
   "id": "0a3db38d-349f-48b9-829a-29f95f5bedc8",
   "metadata": {},
   "outputs": [
    {
     "data": {
      "text/plain": [
       "1"
      ]
     },
     "execution_count": 77,
     "metadata": {},
     "output_type": "execute_result"
    }
   ],
   "source": [
    "s = \" \"\n",
    "len(s)"
   ]
  },
  {
   "cell_type": "code",
   "execution_count": null,
   "id": "63e6e54e-68f2-46dc-a29d-702d43c2b541",
   "metadata": {},
   "outputs": [],
   "source": [
    "# Strings with special Symbols"
   ]
  },
  {
   "cell_type": "code",
   "execution_count": 79,
   "id": "dca9bf76-807b-4312-abe1-8759c3b9bf24",
   "metadata": {},
   "outputs": [
    {
     "name": "stdout",
     "output_type": "stream",
     "text": [
      "hello\n",
      "World\n",
      "11\n"
     ]
    }
   ],
   "source": [
    "s = \"hello\\nWorld\"\n",
    "print(s)\n",
    "print(len(s))"
   ]
  },
  {
   "cell_type": "code",
   "execution_count": 81,
   "id": "6279bab4-1818-4b0c-8dd1-892ef7b842b7",
   "metadata": {},
   "outputs": [
    {
     "name": "stdout",
     "output_type": "stream",
     "text": [
      "hello@nWorld\n",
      "12\n"
     ]
    }
   ],
   "source": [
    "s = \"hello@nWorld\"\n",
    "print(s)\n",
    "print(len(s))"
   ]
  },
  {
   "cell_type": "code",
   "execution_count": 83,
   "id": "02ff4a08-8ac2-4461-a128-9bcdf7c4ec06",
   "metadata": {},
   "outputs": [
    {
     "name": "stdout",
     "output_type": "stream",
     "text": [
      "hello\n",
      "World\n",
      "11\n"
     ]
    }
   ],
   "source": [
    "s = '''hello\n",
    "World'''\n",
    "print(s)\n",
    "print(len(s))"
   ]
  },
  {
   "cell_type": "code",
   "execution_count": 85,
   "id": "45ee8397-8f29-4e96-ab2a-f0bd0c269f30",
   "metadata": {},
   "outputs": [
    {
     "name": "stdout",
     "output_type": "stream",
     "text": [
      "HELLO\n"
     ]
    }
   ],
   "source": [
    "#upper() method\n",
    "s = \"hello\"\n",
    "print(s.upper())"
   ]
  },
  {
   "cell_type": "code",
   "execution_count": 87,
   "id": "a9868d0b-1fa1-4062-8bd2-1e16421767d6",
   "metadata": {},
   "outputs": [
    {
     "name": "stdout",
     "output_type": "stream",
     "text": [
      "hello\n"
     ]
    }
   ],
   "source": [
    "#lower() method\n",
    "s = \"HELLO\"\n",
    "print(s.lower())"
   ]
  },
  {
   "cell_type": "markdown",
   "id": "433697a2-92bc-4f5b-9675-5a81b7a7ebea",
   "metadata": {},
   "source": [
    "# String Concatenation\n"
   ]
  },
  {
   "cell_type": "code",
   "execution_count": 90,
   "id": "357ae9e3-7e27-4b33-bee7-d13bf8a46c28",
   "metadata": {},
   "outputs": [
    {
     "name": "stdout",
     "output_type": "stream",
     "text": [
      "helloworld\n"
     ]
    }
   ],
   "source": [
    "a = \"hello\"\n",
    "b = \"world\"\n",
    "print(a+b)"
   ]
  },
  {
   "cell_type": "code",
   "execution_count": 94,
   "id": "7b3d98b8-776a-45f5-8051-55fbd6d64a80",
   "metadata": {},
   "outputs": [
    {
     "name": "stdout",
     "output_type": "stream",
     "text": [
      "datadatadatadatadata\n"
     ]
    }
   ],
   "source": [
    "a = \"data\"\n",
    "print(a*5)"
   ]
  },
  {
   "cell_type": "markdown",
   "id": "fa3d4cdc-06d3-4153-a264-e02edd7f9daf",
   "metadata": {},
   "source": [
    "# replace method - to replace a String with other string"
   ]
  },
  {
   "cell_type": "code",
   "execution_count": 98,
   "id": "69c80a47-ab15-4616-a984-8aa283650c12",
   "metadata": {},
   "outputs": [
    {
     "name": "stdout",
     "output_type": "stream",
     "text": [
      "hello world, I am learning Data Science\n"
     ]
    }
   ],
   "source": [
    "text = (\"hello world, I am learning python\")\n",
    "print(text.replace(\"python\",\"Data Science\"))"
   ]
  },
  {
   "cell_type": "markdown",
   "id": "e6c81b1b-efff-442f-8b1c-c79b55b8d909",
   "metadata": {},
   "source": [
    "# index Method"
   ]
  },
  {
   "cell_type": "code",
   "execution_count": 102,
   "id": "4119f549-547a-4049-a076-b9b252cf90b0",
   "metadata": {},
   "outputs": [
    {
     "name": "stdout",
     "output_type": "stream",
     "text": [
      "7\n"
     ]
    }
   ],
   "source": [
    "a = \"I want to learn python\"\n",
    "print(a.index(\"to\"))\n"
   ]
  },
  {
   "cell_type": "markdown",
   "id": "e9d5d8d0-7f9e-4094-bb03-8f18aaddc5f6",
   "metadata": {},
   "source": [
    "# find method"
   ]
  },
  {
   "cell_type": "code",
   "execution_count": 104,
   "id": "be1f4f17-8313-4cfd-abc6-46d87b61bb4e",
   "metadata": {},
   "outputs": [
    {
     "name": "stdout",
     "output_type": "stream",
     "text": [
      "10\n"
     ]
    }
   ],
   "source": [
    "a = \"Python is great\"\n",
    "print(a.find(\"g\"))"
   ]
  },
  {
   "cell_type": "code",
   "execution_count": null,
   "id": "8a4fd103-34e5-4ea5-9796-5bfc0272715a",
   "metadata": {},
   "outputs": [],
   "source": [
    "Write a Python program that accomplishes the following tasks:\n",
    "\n",
    "1) Concatenate the strings \"hello\" and \"world\".\n",
    "\n",
    "2) Find the length of the resulting string from the concatenation. 3) Extract the substring \"world\" from the concatenated string.\n",
    "\n",
    "4) Reverse the substring obtained in the previous step.\n",
    "\n",
    "5) Convert the reversed substring to uppercase.\n",
    "\n",
    "6) Replate the letter \"L' with 'x in the reversed and uppercase substring."
   ]
  },
  {
   "cell_type": "code",
   "execution_count": 130,
   "id": "79d5b0d3-52b4-4d23-b175-d02ce0707567",
   "metadata": {},
   "outputs": [
    {
     "name": "stdout",
     "output_type": "stream",
     "text": [
      "helloworld\n",
      "10\n",
      "world\n",
      "dlrow\n",
      "DLROW\n",
      "DxROW\n"
     ]
    }
   ],
   "source": [
    "a = \"hello\"\n",
    "b = \"world\"\n",
    "res = a+b\n",
    "print(res)\n",
    "print(len(res))\n",
    "print(res[5:])\n",
    "b = b[::-1]\n",
    "print(b)\n",
    "b = b.upper()\n",
    "print(b)\n",
    "print(b.replace('L','x'))\n",
    "\n",
    "\n"
   ]
  }
 ],
 "metadata": {
  "kernelspec": {
   "display_name": "Python 3 (ipykernel)",
   "language": "python",
   "name": "python3"
  },
  "language_info": {
   "codemirror_mode": {
    "name": "ipython",
    "version": 3
   },
   "file_extension": ".py",
   "mimetype": "text/x-python",
   "name": "python",
   "nbconvert_exporter": "python",
   "pygments_lexer": "ipython3",
   "version": "3.12.10"
  }
 },
 "nbformat": 4,
 "nbformat_minor": 5
}
