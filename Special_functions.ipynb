{
 "cells": [
  {
   "cell_type": "code",
   "execution_count": 1,
   "id": "46d88c8a-f228-46b4-83b2-aaca29ed069a",
   "metadata": {},
   "outputs": [],
   "source": [
    "#eg : add using normal function\n",
    "def add(a,b):\n",
    "    return a+b\n",
    "    "
   ]
  },
  {
   "cell_type": "code",
   "execution_count": 3,
   "id": "cf5414fd-8144-420b-8c60-174cd8a5a7b8",
   "metadata": {},
   "outputs": [
    {
     "data": {
      "text/plain": [
       "7"
      ]
     },
     "execution_count": 3,
     "metadata": {},
     "output_type": "execute_result"
    }
   ],
   "source": [
    "add(3,4)"
   ]
  },
  {
   "cell_type": "code",
   "execution_count": 13,
   "id": "210f3df6-bdcd-4709-b413-235dea58b5ef",
   "metadata": {},
   "outputs": [
    {
     "data": {
      "text/plain": [
       "11"
      ]
     },
     "execution_count": 13,
     "metadata": {},
     "output_type": "execute_result"
    }
   ],
   "source": [
    "#lambda function\n",
    "add = lambda a,b: a+b\n",
    "add(4,7)"
   ]
  },
  {
   "cell_type": "code",
   "execution_count": 15,
   "id": "7d099c1c-3bd8-4340-866e-52282f6841b1",
   "metadata": {},
   "outputs": [
    {
     "name": "stdout",
     "output_type": "stream",
     "text": [
      "150\n"
     ]
    }
   ],
   "source": [
    "add = lambda a : a+100\n",
    "print(add(50))"
   ]
  },
  {
   "cell_type": "code",
   "execution_count": 17,
   "id": "e1fe03cb-12a4-4589-b083-ffd5b737fe33",
   "metadata": {},
   "outputs": [
    {
     "data": {
      "text/plain": [
       "450"
      ]
     },
     "execution_count": 17,
     "metadata": {},
     "output_type": "execute_result"
    }
   ],
   "source": [
    "#without assigning lambda to a variable\n",
    "(lambda a,b:a*b)(15,30)"
   ]
  },
  {
   "cell_type": "code",
   "execution_count": 23,
   "id": "e5b3a83f-b8c6-4307-a9a1-2a97bec39d21",
   "metadata": {},
   "outputs": [
    {
     "name": "stdout",
     "output_type": "stream",
     "text": [
      "60\n"
     ]
    }
   ],
   "source": [
    " product = lambda x,y,z : x*y*z\n",
    "print(product(z=5,y=3,x=4))"
   ]
  },
  {
   "cell_type": "code",
   "execution_count": 25,
   "id": "2c8d7081-bab1-4773-9384-4d5f8060f12a",
   "metadata": {},
   "outputs": [
    {
     "name": "stdout",
     "output_type": "stream",
     "text": [
      "49\n"
     ]
    }
   ],
   "source": [
    "add = lambda x,y=15,z=24 : x+y+z\n",
    "print(add(10))\n"
   ]
  },
  {
   "cell_type": "code",
   "execution_count": 27,
   "id": "59b3565b-da9d-45f2-9df6-9edf43fb6ce5",
   "metadata": {},
   "outputs": [
    {
     "name": "stdout",
     "output_type": "stream",
     "text": [
      "125\n"
     ]
    }
   ],
   "source": [
    "addition = lambda *args : sum(args)\n",
    "print(addition(24,45,33,23))"
   ]
  },
  {
   "cell_type": "code",
   "execution_count": 29,
   "id": "02b8de92-5d62-4909-9b73-358c3596838b",
   "metadata": {},
   "outputs": [
    {
     "data": {
      "text/plain": [
       "420"
      ]
     },
     "execution_count": 29,
     "metadata": {},
     "output_type": "execute_result"
    }
   ],
   "source": [
    "higher_order_function = lambda x,fun : x+fun(x)\n",
    "higher_order_function(20,lambda x : x*x)"
   ]
  },
  {
   "cell_type": "code",
   "execution_count": 35,
   "id": "f8831a91-ff79-40c6-a0c5-a7fbf8315352",
   "metadata": {},
   "outputs": [
    {
     "data": {
      "text/plain": [
       "'even'"
      ]
     },
     "execution_count": 35,
     "metadata": {},
     "output_type": "execute_result"
    }
   ],
   "source": [
    "(lambda x : x%2 and 'odd' or 'even')(14)"
   ]
  },
  {
   "cell_type": "code",
   "execution_count": 41,
   "id": "b97c2032-f07f-4214-bfd2-943ca6cf4252",
   "metadata": {},
   "outputs": [
    {
     "name": "stdout",
     "output_type": "stream",
     "text": [
      "False\n"
     ]
    }
   ],
   "source": [
    "sub_string = lambda string : string in \"Welcome to python programming.\"\n",
    "print(sub_string('Python'))"
   ]
  },
  {
   "cell_type": "markdown",
   "id": "53a16c09-1d59-4ea2-8569-b8b248a8bbbe",
   "metadata": {},
   "source": [
    "# map Function : it takes another function and sequence of  iterables  as parameters and returns the output after executing the function to each item in a sequence . "
   ]
  },
  {
   "cell_type": "code",
   "execution_count": 3,
   "id": "b452944e-cb5f-4e49-9ce5-7e0deba33c7a",
   "metadata": {},
   "outputs": [],
   "source": [
    "def add(a):\n",
    "    return a+a # add to itself"
   ]
  },
  {
   "cell_type": "code",
   "execution_count": 5,
   "id": "ce3e1c23-6957-47d7-bb16-22af9aec4401",
   "metadata": {},
   "outputs": [],
   "source": [
    "numbers = [4,6,8,9]\n"
   ]
  },
  {
   "cell_type": "code",
   "execution_count": 7,
   "id": "ada2dbd0-ae8b-4680-bc78-70cb6e6cd0e6",
   "metadata": {},
   "outputs": [],
   "source": [
    "out = map(add,numbers)"
   ]
  },
  {
   "cell_type": "code",
   "execution_count": 9,
   "id": "c91ee14e-6835-4095-b80b-4ded181dd0d7",
   "metadata": {},
   "outputs": [],
   "source": [
    "add = list(out)"
   ]
  },
  {
   "cell_type": "code",
   "execution_count": 11,
   "id": "a85aec6f-916f-4cee-b9e4-6dc79426390e",
   "metadata": {},
   "outputs": [
    {
     "name": "stdout",
     "output_type": "stream",
     "text": [
      "[8, 12, 16, 18]\n"
     ]
    }
   ],
   "source": [
    "print(add)"
   ]
  },
  {
   "cell_type": "code",
   "execution_count": 13,
   "id": "d6dc98cd-a2d5-4ebe-83d2-ae03e8a73fc4",
   "metadata": {},
   "outputs": [],
   "source": [
    "out = map(lambda a:a*a,numbers)"
   ]
  },
  {
   "cell_type": "code",
   "execution_count": 15,
   "id": "41cf105f-2a71-4187-a705-d81fd8372094",
   "metadata": {},
   "outputs": [],
   "source": [
    "multiply = list(out)"
   ]
  },
  {
   "cell_type": "code",
   "execution_count": 17,
   "id": "fccabb5a-abd2-4d15-bd0c-e4038af9546e",
   "metadata": {},
   "outputs": [
    {
     "name": "stdout",
     "output_type": "stream",
     "text": [
      "[16, 36, 64, 81]\n"
     ]
    }
   ],
   "source": [
    "print(multiply)"
   ]
  },
  {
   "cell_type": "code",
   "execution_count": 67,
   "id": "deaf34b6-fd05-46fc-9091-93d19a8711e7",
   "metadata": {},
   "outputs": [],
   "source": [
    "map_obj = map(str.upper,[\"pen\",\"notebook\",\"book\"])\n",
    "           "
   ]
  },
  {
   "cell_type": "code",
   "execution_count": 69,
   "id": "ee002c25-9b35-4165-8c59-4e9713e8321a",
   "metadata": {},
   "outputs": [
    {
     "name": "stdout",
     "output_type": "stream",
     "text": [
      "['PEN', 'NOTEBOOK', 'BOOK']\n"
     ]
    }
   ],
   "source": [
    "print(list(map_obj))"
   ]
  },
  {
   "cell_type": "code",
   "execution_count": 73,
   "id": "1c30a198-65fc-4d98-af70-387ac9b227bd",
   "metadata": {},
   "outputs": [],
   "source": [
    "map_obj = map(lambda x:len(list(x)),[\"pen\",\"notebook\",\"book\"])"
   ]
  },
  {
   "cell_type": "code",
   "execution_count": 75,
   "id": "28ed6e16-defb-4a07-be6e-4f166be1363e",
   "metadata": {},
   "outputs": [
    {
     "name": "stdout",
     "output_type": "stream",
     "text": [
      "[3, 8, 4]\n"
     ]
    }
   ],
   "source": [
    "print(list(map_obj))"
   ]
  },
  {
   "cell_type": "markdown",
   "id": "ae6fd09b-1730-4335-996e-17cc7dc542fa",
   "metadata": {},
   "source": [
    "# filter function : provides filtered elements . it takes another function and sequence of  iterables  as parameters . The filter function returns sequence for which it returns true . to reduce the size of the iterables based on the condition passed . "
   ]
  },
  {
   "cell_type": "code",
   "execution_count": 83,
   "id": "e16df7cc-5096-4b3a-994f-cd4b98c07df3",
   "metadata": {},
   "outputs": [],
   "source": [
    "def fil(a):\n",
    "    if a>5:\n",
    "       return a"
   ]
  },
  {
   "cell_type": "code",
   "execution_count": 85,
   "id": "10606508-0c79-486d-86c7-deadba60d86a",
   "metadata": {},
   "outputs": [],
   "source": [
    "out = filter(fil,[1,4,7,3,9])"
   ]
  },
  {
   "cell_type": "code",
   "execution_count": 87,
   "id": "c2ca4241-9bd7-4cd4-a251-1b8b4fc05284",
   "metadata": {},
   "outputs": [
    {
     "name": "stdout",
     "output_type": "stream",
     "text": [
      "[7, 9]\n"
     ]
    }
   ],
   "source": [
    "print(list(out))"
   ]
  },
  {
   "cell_type": "code",
   "execution_count": 89,
   "id": "90e3cd97-5446-4009-9561-6e1f1b31edc3",
   "metadata": {},
   "outputs": [],
   "source": [
    "y = filter(lambda a : (a>5),(1,4,7,3,9))"
   ]
  },
  {
   "cell_type": "code",
   "execution_count": 91,
   "id": "6e78fed4-9e2f-4f6a-9e43-0568e3732159",
   "metadata": {},
   "outputs": [
    {
     "name": "stdout",
     "output_type": "stream",
     "text": [
      "[7, 9]\n"
     ]
    }
   ],
   "source": [
    "print(list(y))"
   ]
  },
  {
   "cell_type": "code",
   "execution_count": 93,
   "id": "1b98d29e-a4cb-46ba-8734-3b77e7f61696",
   "metadata": {},
   "outputs": [],
   "source": [
    "def veggies_with_e(x):\n",
    "    return 'e' in x"
   ]
  },
  {
   "cell_type": "code",
   "execution_count": 95,
   "id": "5669bc8c-9eb3-4978-8e29-1d9e670f3be5",
   "metadata": {},
   "outputs": [],
   "source": [
    "fil_obj= filter(veggies_with_e,['peas','garlic','ginger','beetroot','garlic'])"
   ]
  },
  {
   "cell_type": "code",
   "execution_count": 97,
   "id": "d779f295-45a9-46a6-bc96-fda12f296e56",
   "metadata": {},
   "outputs": [
    {
     "name": "stdout",
     "output_type": "stream",
     "text": [
      "['peas', 'ginger', 'beetroot']\n"
     ]
    }
   ],
   "source": [
    "print(list(fil_obj))"
   ]
  },
  {
   "cell_type": "code",
   "execution_count": 99,
   "id": "712b3f7b-8c80-44bb-b7f4-50286325fb5c",
   "metadata": {},
   "outputs": [],
   "source": [
    "a = filter(lambda a: 'r' in a, ['peas','garlic','ginger','beetroot','garlic'])"
   ]
  },
  {
   "cell_type": "code",
   "execution_count": 105,
   "id": "6f172f52-b110-4b63-93fe-3b456a21f7af",
   "metadata": {},
   "outputs": [
    {
     "name": "stdout",
     "output_type": "stream",
     "text": [
      "['garlic', 'ginger', 'beetroot', 'garlic']\n"
     ]
    }
   ],
   "source": [
    "print(list(a))"
   ]
  },
  {
   "cell_type": "markdown",
   "id": "0542d08c-d97c-4982-a60d-473018afb6f2",
   "metadata": {},
   "source": [
    "# reduce function : it provides single value on execution . this function also take another function and sequence of iterables as a parameter . the functions tool module must be used to import this function."
   ]
  },
  {
   "cell_type": "code",
   "execution_count": 21,
   "id": "055f8c27-050b-43fc-b485-d8bda4d9c968",
   "metadata": {},
   "outputs": [],
   "source": [
    "from functools import reduce "
   ]
  },
  {
   "cell_type": "code",
   "execution_count": 109,
   "id": "47c79970-2a96-4a10-a6f3-a55a988a5b8f",
   "metadata": {},
   "outputs": [
    {
     "data": {
      "text/plain": [
       "125"
      ]
     },
     "execution_count": 109,
     "metadata": {},
     "output_type": "execute_result"
    }
   ],
   "source": [
    "reduce(lambda a,b:a+b,[10,35,50,30])"
   ]
  },
  {
   "cell_type": "code",
   "execution_count": 111,
   "id": "c8477861-46c7-411e-8d49-5cd5e1db28ec",
   "metadata": {},
   "outputs": [],
   "source": [
    "numbers = [3,4,5,6,7,8]"
   ]
  },
  {
   "cell_type": "code",
   "execution_count": 113,
   "id": "9e78205d-d9d5-4ba0-a3f9-ebf623b669b4",
   "metadata": {},
   "outputs": [],
   "source": [
    "def custom_number(first,second):\n",
    "    return first+second"
   ]
  },
  {
   "cell_type": "code",
   "execution_count": 23,
   "id": "6ec418a9-d491-4f6c-948b-6e4adffecbcb",
   "metadata": {},
   "outputs": [
    {
     "ename": "NameError",
     "evalue": "name 'custom_numbers' is not defined",
     "output_type": "error",
     "traceback": [
      "\u001b[0;31m---------------------------------------------------------------------------\u001b[0m",
      "\u001b[0;31mNameError\u001b[0m                                 Traceback (most recent call last)",
      "Cell \u001b[0;32mIn[23], line 1\u001b[0m\n\u001b[0;32m----> 1\u001b[0m result \u001b[38;5;241m=\u001b[39m reduce(custom_numbers)\n",
      "\u001b[0;31mNameError\u001b[0m: name 'custom_numbers' is not defined"
     ]
    }
   ],
   "source": [
    "result = reduce(custom_numbers)"
   ]
  }
 ],
 "metadata": {
  "kernelspec": {
   "display_name": "Python 3 (ipykernel)",
   "language": "python",
   "name": "python3"
  },
  "language_info": {
   "codemirror_mode": {
    "name": "ipython",
    "version": 3
   },
   "file_extension": ".py",
   "mimetype": "text/x-python",
   "name": "python",
   "nbconvert_exporter": "python",
   "pygments_lexer": "ipython3",
   "version": "3.12.4"
  }
 },
 "nbformat": 4,
 "nbformat_minor": 5
}
