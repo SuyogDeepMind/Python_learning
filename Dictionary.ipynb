{
 "cells": [
  {
   "cell_type": "code",
   "execution_count": 1,
   "id": "79263288-ae3b-40f4-949c-eb28a5210134",
   "metadata": {},
   "outputs": [
    {
     "name": "stdout",
     "output_type": "stream",
     "text": [
      "{'age': 10, 'name': 'Suyog', 'Gender': 'Male'}\n"
     ]
    }
   ],
   "source": [
    "#creation\n",
    "my_dict = {\"age\":10,\"name\":\"Suyog\",\"Gender\":\"Male\"}\n",
    "print(my_dict)"
   ]
  },
  {
   "cell_type": "code",
   "execution_count": 3,
   "id": "2efb4ba7-f212-4a5b-b9e8-6c71e6df99fb",
   "metadata": {},
   "outputs": [
    {
     "name": "stdout",
     "output_type": "stream",
     "text": [
      "{'age': 10, 'name': 'Suyog', 'is_student': True, 'course': []}\n"
     ]
    }
   ],
   "source": [
    "#dictionary with diff type dat\n",
    "my_dict = {\"age\":10,\n",
    "           \"name\":\"Suyog\",\n",
    "           \"is_student\":True,\n",
    "           \"course\":[]\n",
    "          }\n",
    "print(my_dict)"
   ]
  },
  {
   "cell_type": "code",
   "execution_count": 5,
   "id": "71ef8dd9-0d96-4a9f-b65b-57c64c62c64f",
   "metadata": {},
   "outputs": [
    {
     "name": "stdout",
     "output_type": "stream",
     "text": [
      "{'age': 10, 'name': 'Suyog', 'address': {'street': 'main gate', 'plot no': 49}}\n"
     ]
    }
   ],
   "source": [
    "#nested dictionary\n",
    "my_dict = {\"age\":10,\n",
    "           \"name\":\"Suyog\",\n",
    "           \"address\":{\n",
    "               \"street\":\"main gate\",\n",
    "               \"plot no\": 49\n",
    "           }\n",
    "          }\n",
    "print(my_dict)"
   ]
  },
  {
   "cell_type": "code",
   "execution_count": 7,
   "id": "dd9c1e58-f509-426a-b34a-49e31a403141",
   "metadata": {},
   "outputs": [
    {
     "name": "stdout",
     "output_type": "stream",
     "text": [
      "{}\n",
      "<class 'dict'>\n"
     ]
    }
   ],
   "source": [
    "#empty dictionary\n",
    "empty_dict = {}\n",
    "print(empty_dict)\n",
    "print(type(empty_dict))"
   ]
  },
  {
   "cell_type": "code",
   "execution_count": 13,
   "id": "9b933712-05f6-4ba3-a628-d94c34adb847",
   "metadata": {},
   "outputs": [
    {
     "name": "stdout",
     "output_type": "stream",
     "text": [
      "{0: 0, 1: 1, 2: 4, 3: 9, 4: 16, 5: 25}\n"
     ]
    }
   ],
   "source": [
    "#dictionary comprehension\n",
    "squares = {x : x*x for x in range(6)}\n",
    "print(squares)"
   ]
  },
  {
   "cell_type": "code",
   "execution_count": 11,
   "id": "fc7614e5-c880-4bff-9b9c-e1b7d0bba8b7",
   "metadata": {},
   "outputs": [
    {
     "name": "stdout",
     "output_type": "stream",
     "text": [
      "Swati\n",
      "30\n"
     ]
    }
   ],
   "source": [
    "#charecteristics of Dictionary\n",
    "#Accessing Values\n",
    "person = {\"name\":\"Swati\",\"age\":30,\"gender\":\"Male\"}\n",
    "print(person[\"name\"])\n",
    "print(person[\"age\"])"
   ]
  },
  {
   "cell_type": "code",
   "execution_count": 17,
   "id": "5f568a75-59ce-4270-8ccc-523dedf210a0",
   "metadata": {},
   "outputs": [],
   "source": [
    "#flexible key types\n",
    "# #keys in dictionary must be unique . they can be of various data types,\n",
    "# including strings ,integers , float,tuples(if they contain only hashable objects)"
   ]
  },
  {
   "cell_type": "code",
   "execution_count": 13,
   "id": "8658034d-8e4e-4849-a1d0-2268d7b507fa",
   "metadata": {},
   "outputs": [
    {
     "name": "stdout",
     "output_type": "stream",
     "text": [
      "{'name': 'john', 123: 'integer key', 3.23: 'float key', (1, 2): 'tuple key'}\n"
     ]
    }
   ],
   "source": [
    "data = {'name':'john',\n",
    "        123:'integer key',\n",
    "        3.23:'float key',\n",
    "        (1,2):'tuple key'\n",
    "}\n",
    "print(data)"
   ]
  },
  {
   "cell_type": "code",
   "execution_count": 15,
   "id": "60d96ec3-426a-46ed-afb6-bdf28a0374bd",
   "metadata": {},
   "outputs": [
    {
     "name": "stdout",
     "output_type": "stream",
     "text": [
      "{'name': 'Suyog', 'age': 30}\n"
     ]
    }
   ],
   "source": [
    "#duplicates not allowed \n",
    "person = {\"name\":\"Swati\",\"age\":30,\"name\":\"Suyog\"}\n",
    "print(person)"
   ]
  },
  {
   "cell_type": "code",
   "execution_count": 21,
   "id": "6b0e8f65-be6b-4de8-a5dc-5d9d0c6fdd4c",
   "metadata": {},
   "outputs": [
    {
     "name": "stdout",
     "output_type": "stream",
     "text": [
      "True\n",
      "False\n"
     ]
    }
   ],
   "source": [
    "#membership testing\n",
    "dict = {\"name\":\"Swati\",\"age\":30,\"name\":\"Suyog\"}\n",
    "print('name' in dict)\n",
    "print('swati' in dict) # it checks only key not value"
   ]
  },
  {
   "cell_type": "code",
   "execution_count": 3,
   "id": "988ed99d-511c-4369-944b-13cef83ad2e8",
   "metadata": {},
   "outputs": [
    {
     "name": "stdout",
     "output_type": "stream",
     "text": [
      "{'name': 'Suyog', 'age': 25, 'city': 'Pune'}\n",
      "Suyog\n"
     ]
    }
   ],
   "source": [
    "#nested dictionary\n",
    "employees = {\n",
    "    \"emp1\":{\"name\":\"Suyog\",\"age\":25,\"city\":\"Pune\"},\n",
    "    \"emp2\":{\"name\":\"Swati\",\"age\":30,\"city\":\"Mumbai\"}\n",
    "}\n",
    "print(employees[\"emp1\"])\n",
    "print(employees[\"emp1\"][\"name\"])"
   ]
  },
  {
   "cell_type": "code",
   "execution_count": null,
   "id": "f1e62b79-e37a-4c4d-9e84-80dc5216cf8d",
   "metadata": {},
   "outputs": [],
   "source": [
    "Create a dictionary book rating with the following data\n",
    "'python programming':4.5\n",
    "'Data science':4.8\n",
    "'machine learning':4.2\n",
    "check if python programming is in book rating \n",
    "print \"found\" if it exists \n",
    "Use a method to get all keys from book ratings and \n",
    "store them in a list titles and print the list titles.\n"
   ]
  },
  {
   "cell_type": "code",
   "execution_count": 31,
   "id": "28cb9945-703a-4c8b-a41f-72934c422c1c",
   "metadata": {},
   "outputs": [
    {
     "name": "stdout",
     "output_type": "stream",
     "text": [
      "Found\n",
      "['python programming', 'Data science', 'machine learning']\n"
     ]
    }
   ],
   "source": [
    "books_rating = {\n",
    "    'python programming':4.5,\n",
    "    'Data science':4.8,\n",
    "    'machine learning':4.2,\n",
    "}\n",
    "if 'python programming' in books_rating:\n",
    "    print(\"Found\")\n",
    "else:\n",
    "    print(\"Not found\")\n",
    "\n",
    "titles = list(books_rating.keys())\n",
    "print(titles)"
   ]
  },
  {
   "cell_type": "code",
   "execution_count": null,
   "id": "250721a5-fb4b-420b-bf51-cb25696cb613",
   "metadata": {},
   "outputs": [],
   "source": [
    "Create a dictionary fruit stock with the following items:\n",
    "'apple': 10\n",
    "'banana': 15\n",
    "'orange': 8\n",
    "'grape': 20\n",
    "Print each fruit along with its stock count in the format \n",
    "\n",
    "\"Fruit\": Stock\" using a loop.\n",
    "\n",
    "OUTPUT\n",
    "Fruit: apple, Stock: 18\n",
    "Fruit: banana, Stock: 15\n",
    "Fruit: orange Stock: 8\n",
    "Fruit: grape, Stock: 20"
   ]
  },
  {
   "cell_type": "code",
   "execution_count": 35,
   "id": "b5b9e4aa-7899-45c1-95ca-a23f6c342758",
   "metadata": {},
   "outputs": [
    {
     "name": "stdout",
     "output_type": "stream",
     "text": [
      "Fruit apple stock 10\n",
      "Fruit banana stock 15\n",
      "Fruit orange stock 8\n",
      "Fruit grape stock 20\n"
     ]
    }
   ],
   "source": [
    "fruits = {\n",
    "    'apple': 10,\n",
    "    'banana': 15,\n",
    "    'orange': 8,\n",
    "    'grape': 20\n",
    "}\n",
    "for fruit in fruits:\n",
    "    print(\"Fruit\",fruit,\"stock\",fruits[fruit])"
   ]
  },
  {
   "cell_type": "code",
   "execution_count": 37,
   "id": "04851f79-4451-4973-ad96-89b448cac41c",
   "metadata": {},
   "outputs": [
    {
     "name": "stdout",
     "output_type": "stream",
     "text": [
      "4\n"
     ]
    }
   ],
   "source": [
    "#length method\n",
    "fruits = {\n",
    "    'apple': 10,\n",
    "    'banana': 15,\n",
    "    'orange': 8,\n",
    "    'grape': 20\n",
    "}\n",
    "print(len(fruits))"
   ]
  },
  {
   "cell_type": "code",
   "execution_count": 39,
   "id": "9e596c77-668c-4c4a-a5a0-c70578dc6c18",
   "metadata": {},
   "outputs": [
    {
     "name": "stdout",
     "output_type": "stream",
     "text": [
      "dict_keys(['name', 'age', 'Country'])\n"
     ]
    }
   ],
   "source": [
    "#get keys\n",
    "a = {\"name\":\"Suyog\",\"age\":20,\"Country\":\"Indian\"}\n",
    "x = a.keys()\n",
    "print(x)\n",
    "     "
   ]
  },
  {
   "cell_type": "code",
   "execution_count": 41,
   "id": "c6a8e369-84b2-4438-b838-8653212e47e8",
   "metadata": {},
   "outputs": [
    {
     "name": "stdout",
     "output_type": "stream",
     "text": [
      "dict_values(['Suyog', 20, 'Indian'])\n"
     ]
    }
   ],
   "source": [
    "#get values\n",
    "a = {\"name\":\"Suyog\",\"age\":20,\"Country\":\"Indian\"}\n",
    "x = a.values()\n",
    "print(x)"
   ]
  },
  {
   "cell_type": "code",
   "execution_count": 43,
   "id": "7f34a067-9233-462f-b393-5cd33ab27bf5",
   "metadata": {},
   "outputs": [
    {
     "name": "stdout",
     "output_type": "stream",
     "text": [
      "{'name': 'Suyog', 'age': 20, 'Country': 'bharat'}\n"
     ]
    }
   ],
   "source": [
    "#change values \n",
    "a = {\"name\":\"Suyog\",\"age\":20,\"Country\":\"Indian\"}\n",
    "a[\"Country\"] = \"bharat\"\n",
    "print(a)"
   ]
  },
  {
   "cell_type": "code",
   "execution_count": 47,
   "id": "69f1e7e2-bf73-4b86-94e1-301d13def649",
   "metadata": {},
   "outputs": [
    {
     "name": "stdout",
     "output_type": "stream",
     "text": [
      "{'name': 'Suyog', 'age': 20, 'Country': 'Indian'}\n",
      "{'name': 'Suyog', 'age': 20, 'Country': 'Indian', 'city': 'New Delhi', 'location': 'Sector 10'}\n"
     ]
    }
   ],
   "source": [
    "#to add values in dictionary\n",
    "a = {\"name\":\"Suyog\",\"age\":20,\"Country\":\"Indian\"}\n",
    "print(a)\n",
    "a[\"city\"] = \"New Delhi\"\n",
    "a[\"location\"] = \"Sector 10\"\n",
    "print(a)"
   ]
  },
  {
   "cell_type": "code",
   "execution_count": 59,
   "id": "068775b6-1c79-4b3f-a53c-5439111d7098",
   "metadata": {},
   "outputs": [
    {
     "name": "stdout",
     "output_type": "stream",
     "text": [
      "{'name': 'Suyog', 'age': 20, 'Country': 'Indian'}\n",
      "{'name': 'Suyog', 'age': 20, 'Country': 'Indian', 'Nickname': 'Gunu', 'city': 'Aurangabad'}\n"
     ]
    }
   ],
   "source": [
    "#update method\n",
    "a = {\"name\":\"Suyog\",\"age\":20,\"Country\":\"Indian\"}\n",
    "print(a)\n",
    "a.update({\"Nickname\" : \"Gunu\",\"city\" : \"Aurangabad\"})\n",
    "print(a)"
   ]
  },
  {
   "cell_type": "code",
   "execution_count": 63,
   "id": "fa5329a7-ec06-4b63-bd54-b240c7f04212",
   "metadata": {},
   "outputs": [
    {
     "name": "stdout",
     "output_type": "stream",
     "text": [
      "{'name': 'Suyog', 'age': 20, 'Country': 'Indian', 'Nickname': 'Gunu', 'city': 'Aurangabad'}\n",
      "{'name': 'Suyog', 'Country': 'Indian', 'Nickname': 'Gunu', 'city': 'Aurangabad'}\n"
     ]
    }
   ],
   "source": [
    "#pop method removes specific key:value pair.\n",
    "a = {'name': 'Suyog', 'age': 20, 'Country': 'Indian', 'Nickname': 'Gunu', 'city': 'Aurangabad'}\n",
    "print(a)\n",
    "a.pop('age')\n",
    "print(a)"
   ]
  },
  {
   "cell_type": "code",
   "execution_count": 65,
   "id": "a03a2e5f-1e2a-47be-b1e5-2446cd6352a2",
   "metadata": {},
   "outputs": [
    {
     "name": "stdout",
     "output_type": "stream",
     "text": [
      "{'name': 'Suyog', 'Country': 'Indian'}\n"
     ]
    }
   ],
   "source": [
    "#delete method\n",
    "a = {'name': 'Suyog', 'Country': 'Indian', 'Nickname': 'Gunu', 'city': 'Aurangabad'}\n",
    "del a['Nickname'],a['city']\n",
    "print(a)"
   ]
  },
  {
   "cell_type": "code",
   "execution_count": 71,
   "id": "f03f1a76-8581-437e-bd90-a4bb137aa4db",
   "metadata": {},
   "outputs": [
    {
     "name": "stdout",
     "output_type": "stream",
     "text": [
      "{'name': 'Suyog', 'Country': 'Indian', 'Nickname': 'Gunu', 'city': 'Aurangabad'}\n",
      "{}\n"
     ]
    }
   ],
   "source": [
    "#clear method empty the dictionary\n",
    "a = {'name': 'Suyog', 'Country': 'Indian', 'Nickname': 'Gunu', 'city': 'Aurangabad'}\n",
    "print(a)\n",
    "a.clear()\n",
    "print(a)"
   ]
  },
  {
   "cell_type": "code",
   "execution_count": 75,
   "id": "a897538d-635d-4353-9ac7-57e41dd47a68",
   "metadata": {},
   "outputs": [
    {
     "name": "stdout",
     "output_type": "stream",
     "text": [
      "{1: 1, 2: 2, 3: 3, 4: 4, 5: 5, 6: 6}\n"
     ]
    }
   ],
   "source": [
    "#to concatenate the dictionaries\n",
    "dict1 = {1:1,2:2}\n",
    "dict2 = {3:3,4:4}\n",
    "dict3 = {5:5,6:6}\n",
    "dict4 = {}\n",
    "for d in (dict1,dict2,dict3):dict4.update(d)\n",
    "print(dict4)"
   ]
  },
  {
   "cell_type": "code",
   "execution_count": 79,
   "id": "bbf957a7-936a-4a39-bd57-8cddbbe0e2a8",
   "metadata": {},
   "outputs": [
    {
     "name": "stdout",
     "output_type": "stream",
     "text": [
      "{1: 1, 2: 4, 3: 9, 4: 16, 5: 25, 6: 36, 7: 49, 8: 64, 9: 81, 10: 100, 11: 121, 12: 144, 13: 169, 14: 196, 15: 225}\n"
     ]
    }
   ],
   "source": [
    "#print the dictionary where key are between 1 to 15 and values are squares of them\n",
    "square_dict = {}\n",
    "for num in range(1,16):\n",
    "    square_dict[num] = num**2\n",
    "print(square_dict)    "
   ]
  },
  {
   "cell_type": "code",
   "execution_count": 81,
   "id": "d4a4ebb9-ca46-414d-9fe1-72662bda9455",
   "metadata": {},
   "outputs": [],
   "source": [
    "#check whether the key is present in dictionary or not . \n",
    "dict = {1: 1, 2: 2, 3: 3, 4: 4, 5: 5, 6: 6}\n",
    "def is_key_present(x):\n",
    "    if x in dict:\n",
    "        print(\"Present\")\n",
    "    else:\n",
    "        print(\"Not present\")"
   ]
  },
  {
   "cell_type": "code",
   "execution_count": 83,
   "id": "258b2d60-e61f-4f2f-aacc-585554f5f889",
   "metadata": {},
   "outputs": [
    {
     "name": "stdout",
     "output_type": "stream",
     "text": [
      "Present\n"
     ]
    }
   ],
   "source": [
    "is_key_present(5)"
   ]
  },
  {
   "cell_type": "code",
   "execution_count": 85,
   "id": "c7de4cba-19c4-487c-a80a-fe951e48cc1a",
   "metadata": {},
   "outputs": [
    {
     "name": "stdout",
     "output_type": "stream",
     "text": [
      "Not present\n"
     ]
    }
   ],
   "source": [
    "is_key_present(10)"
   ]
  },
  {
   "cell_type": "code",
   "execution_count": null,
   "id": "8dd0073f-8878-44f4-8b1f-298286fb2a4e",
   "metadata": {},
   "outputs": [],
   "source": []
  }
 ],
 "metadata": {
  "kernelspec": {
   "display_name": "Python 3 (ipykernel)",
   "language": "python",
   "name": "python3"
  },
  "language_info": {
   "codemirror_mode": {
    "name": "ipython",
    "version": 3
   },
   "file_extension": ".py",
   "mimetype": "text/x-python",
   "name": "python",
   "nbconvert_exporter": "python",
   "pygments_lexer": "ipython3",
   "version": "3.12.4"
  }
 },
 "nbformat": 4,
 "nbformat_minor": 5
}
