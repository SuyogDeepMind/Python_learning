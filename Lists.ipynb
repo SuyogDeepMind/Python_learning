{
 "cells": [
  {
   "cell_type": "code",
   "execution_count": 1,
   "id": "c0537951-91e2-498a-8fcf-de3965522ca1",
   "metadata": {},
   "outputs": [
    {
     "name": "stdout",
     "output_type": "stream",
     "text": [
      "['a', 'b', 'c']\n",
      "<class 'list'>\n"
     ]
    }
   ],
   "source": [
    "mylist = [\"a\",\"b\",\"c\"]\n",
    "print(mylist)\n",
    "print(type(mylist))"
   ]
  },
  {
   "cell_type": "markdown",
   "id": "ae107252-ae86-48dd-8cc4-6864478f7b90",
   "metadata": {},
   "source": [
    "# Properties of List"
   ]
  },
  {
   "cell_type": "code",
   "execution_count": 5,
   "id": "8ba95414-1b2e-450e-98fe-b72c98e7f4c1",
   "metadata": {},
   "outputs": [
    {
     "name": "stdout",
     "output_type": "stream",
     "text": [
      "['mango', 'cherry', 'Pineapple']\n",
      "mango\n"
     ]
    }
   ],
   "source": [
    "# Ordered\n",
    "fruits = [\"mango\",\"cherry\",\"Pineapple\"]\n",
    "print(fruits)\n",
    "print(fruits[0])"
   ]
  },
  {
   "cell_type": "code",
   "execution_count": 7,
   "id": "df2f4056-ff5d-4ada-a74c-33a290c39a7d",
   "metadata": {},
   "outputs": [
    {
     "name": "stdout",
     "output_type": "stream",
     "text": [
      "[1, 'hello', 3.14, [1, 2, 3]]\n"
     ]
    }
   ],
   "source": [
    "#Heterogenous\n",
    "mixed_list = [1,\"hello\",3.14,[1,2,3]]\n",
    "print(mixed_list)\n",
    "\n"
   ]
  },
  {
   "cell_type": "code",
   "execution_count": 11,
   "id": "e7c5e93d-902b-4eaa-952b-5f4257f050ce",
   "metadata": {},
   "outputs": [
    {
     "name": "stdout",
     "output_type": "stream",
     "text": [
      "cat\n",
      "fish\n"
     ]
    }
   ],
   "source": [
    "#Indexed\n",
    "animals = [\"cat\",\"dog\",\"bird\",\"fish\"]\n",
    "print(animals[0])\n",
    "print(animals[-1])"
   ]
  },
  {
   "cell_type": "code",
   "execution_count": 13,
   "id": "003cefa0-6455-40eb-ab39-ced040b287f5",
   "metadata": {},
   "outputs": [
    {
     "name": "stdout",
     "output_type": "stream",
     "text": [
      "[12, 13, 14]\n"
     ]
    }
   ],
   "source": [
    "#slicing\n",
    "numbers = [11,12,13,14,15]\n",
    "print(numbers[1:4])"
   ]
  },
  {
   "cell_type": "code",
   "execution_count": 15,
   "id": "61f12b23-78cf-4e91-a7bf-cb293f82834a",
   "metadata": {},
   "outputs": [
    {
     "name": "stdout",
     "output_type": "stream",
     "text": [
      "[11, 12, 13, 14]\n",
      "[11, 12, 13, 14, 15]\n"
     ]
    }
   ],
   "source": [
    "#omiting slicing\n",
    "numbers = [11,12,13,14,15]\n",
    "print(numbers[:4])\n",
    "print(numbers[0:])"
   ]
  },
  {
   "cell_type": "code",
   "execution_count": 17,
   "id": "b6cbda90-f478-4ffe-ae4a-fdb53ea2c126",
   "metadata": {},
   "outputs": [
    {
     "name": "stdout",
     "output_type": "stream",
     "text": [
      "[11, 12, 13, 14, 15]\n"
     ]
    }
   ],
   "source": [
    "#negative indexing\n",
    "numbers = [11,12,13,14,15]\n",
    "print(numbers[-5:])"
   ]
  },
  {
   "cell_type": "code",
   "execution_count": 19,
   "id": "be02a9c3-eb77-4d95-b11e-5d870cad2935",
   "metadata": {},
   "outputs": [
    {
     "name": "stdout",
     "output_type": "stream",
     "text": [
      "[11, 13, 15]\n"
     ]
    }
   ],
   "source": [
    "#indexing with step \n",
    "numbers = [11,12,13,14,15]\n",
    "print(numbers[::2])"
   ]
  },
  {
   "cell_type": "code",
   "execution_count": null,
   "id": "d76af477-7d76-47a4-b337-de786c19ffce",
   "metadata": {},
   "outputs": [],
   "source": [
    "Given the list scores [55,89,76,65,93,50,72]\n",
    "write a python expression to create a new list that contains the score above 70 only\n"
   ]
  },
  {
   "cell_type": "code",
   "execution_count": 41,
   "id": "57db824f-4a97-489a-8214-d3e337d9b7d3",
   "metadata": {},
   "outputs": [
    {
     "name": "stdout",
     "output_type": "stream",
     "text": [
      "[89, 76, 93, 72]\n"
     ]
    }
   ],
   "source": [
    "List = [55,89,76,65,93,50,72]\n",
    "new_list = []\n",
    "for num in List:\n",
    "     if num>70:\n",
    "         new_list.append(num)\n",
    "     else:\n",
    "         pass\n",
    "print(new_list)"
   ]
  },
  {
   "cell_type": "code",
   "execution_count": null,
   "id": "95f8e2bc-a06e-4ca1-9a8f-b7998c68ebce",
   "metadata": {},
   "outputs": [],
   "source": [
    "List = [1,2,3,4,5,6,7,8,9,10]\n",
    "write the python expression to get the sum of the first five elements and another expression to reverse the entire list\n"
   ]
  },
  {
   "cell_type": "code",
   "execution_count": 47,
   "id": "44370fdf-385d-4fb3-9285-241dcf2bb902",
   "metadata": {},
   "outputs": [
    {
     "name": "stdout",
     "output_type": "stream",
     "text": [
      "Sum of first five elements is :  15\n",
      "Reverse list is : [10, 9, 8, 7, 6, 5, 4, 3, 2, 1]\n"
     ]
    }
   ],
   "source": [
    "List = [1,2,3,4,5,6,7,8,9,10]\n",
    "sum_first_five = sum(List[:5])\n",
    "print(\"Sum of first five elements is : \",sum_first_five)\n",
    "\n",
    "reverse = List[::-1]\n",
    "print(\"Reverse list is :\",reverse)\n"
   ]
  },
  {
   "cell_type": "code",
   "execution_count": null,
   "id": "ef51a433-b087-4ad5-8dc8-af102a8155a2",
   "metadata": {},
   "outputs": [],
   "source": [
    "Given the list \n",
    "List = [1,2,3,4,5,6,7,8,9,10]\n",
    "write a python expression to create a new list with first half and second half swapped.\n",
    "print the sum of the last three elements\n",
    "\n",
    "input =[1,2,3,4,5,6,7,8,9,10]\n",
    "output = [6,7,8,9,10,1,2,3,4,5]\n",
    "\n"
   ]
  },
  {
   "cell_type": "code",
   "execution_count": 65,
   "id": "0007ef7f-b81b-4cce-b297-030692b1cfb2",
   "metadata": {},
   "outputs": [
    {
     "name": "stdout",
     "output_type": "stream",
     "text": [
      "[6, 7, 8, 9, 10]\n",
      "[1, 2, 3, 4, 5]\n",
      "[6, 7, 8, 9, 10, 1, 2, 3, 4, 5]\n",
      "12\n"
     ]
    }
   ],
   "source": [
    "List = [1,2,3,4,5,6,7,8,9,10]\n",
    "new_list = List[-5:]\n",
    "print(new_list)\n",
    "new_list_2 = List[0:5]\n",
    "print(new_list_2)\n",
    "new_list = new_list + new_list_2\n",
    "print(new_list)\n",
    "sum_last_three = sum(new_list[-3:])\n",
    "print(sum_last_three)"
   ]
  },
  {
   "cell_type": "markdown",
   "id": "548b793d-7f06-4f61-a740-d41db460216c",
   "metadata": {},
   "source": [
    "# Mutability property\n"
   ]
  },
  {
   "cell_type": "code",
   "execution_count": 67,
   "id": "22306970-a775-4eff-a9ed-5bd367b39c75",
   "metadata": {},
   "outputs": [
    {
     "name": "stdout",
     "output_type": "stream",
     "text": [
      "[1, 2, 10, 4, 5]\n"
     ]
    }
   ],
   "source": [
    "#changing elements\n",
    "my_list = [1,2,3,4,5]\n",
    "my_list[2] = 10\n",
    "print(my_list)"
   ]
  },
  {
   "cell_type": "code",
   "execution_count": 69,
   "id": "cd55dc15-14fa-4af1-ab8f-c57199d7322c",
   "metadata": {},
   "outputs": [
    {
     "name": "stdout",
     "output_type": "stream",
     "text": [
      "[1, 2, 'hello', 4, 5]\n"
     ]
    }
   ],
   "source": [
    "#changing elements\n",
    "my_list = [1,2,3,4,5]\n",
    "my_list[2] = \"hello\"\n",
    "print(my_list)"
   ]
  },
  {
   "cell_type": "code",
   "execution_count": 71,
   "id": "005aa513-828f-4992-8d4c-f73b796ad36b",
   "metadata": {},
   "outputs": [
    {
     "name": "stdout",
     "output_type": "stream",
     "text": [
      "[1, 2, 'books', 'pen', 'Paper', 6, 7, 8, 9, 10]\n"
     ]
    }
   ],
   "source": [
    "#change a range of item values\n",
    "my_list = [1,2,3,4,5,6,7,8,9,10]\n",
    "my_list[2:5] = [\"books\",\"pen\",\"Paper\"]\n",
    "print(my_list)"
   ]
  },
  {
   "cell_type": "code",
   "execution_count": 73,
   "id": "5c481b61-18de-4b27-8f79-77c78a50e1af",
   "metadata": {},
   "outputs": [
    {
     "name": "stdout",
     "output_type": "stream",
     "text": [
      "['apple', 'banana', 'cheery', 'Orange']\n"
     ]
    }
   ],
   "source": [
    "#add list items\n",
    "thislist = [\"apple\",\"banana\",\"cheery\"]\n",
    "thislist.append(\"Orange\")\n",
    "print(thislist)"
   ]
  },
  {
   "cell_type": "code",
   "execution_count": 77,
   "id": "8a743e96-33ef-4c85-b3ce-ab28c177421d",
   "metadata": {},
   "outputs": [
    {
     "name": "stdout",
     "output_type": "stream",
     "text": [
      "[1, 2, 4, 5, 6, 7, 8]\n"
     ]
    }
   ],
   "source": [
    "#remove the items \n",
    "a = [1,2,3,4,5,6,7,8]\n",
    "a.remove(3)\n",
    "print(a)"
   ]
  },
  {
   "cell_type": "code",
   "execution_count": 79,
   "id": "f217f6c4-4335-440e-aed4-a62719b4dce9",
   "metadata": {},
   "outputs": [
    {
     "name": "stdout",
     "output_type": "stream",
     "text": [
      "[1, 2, 3, 4, 5, 6, 'hello', 'suyog']\n"
     ]
    }
   ],
   "source": [
    "#Join the list\n",
    "list1 = [1,2,3]\n",
    "list2 = [4,5,6]\n",
    "list3 = [\"hello\",\"suyog\"]\n",
    "print(list1+list2+list3)"
   ]
  },
  {
   "cell_type": "code",
   "execution_count": 83,
   "id": "ae888b58-617a-43c9-b2b3-cc80c234f27c",
   "metadata": {},
   "outputs": [
    {
     "data": {
      "text/plain": [
       "True"
      ]
     },
     "execution_count": 83,
     "metadata": {},
     "output_type": "execute_result"
    }
   ],
   "source": [
    "#to check whether a element is in  list a element or not\n",
    "list1 = [1,2,3,4,5,6,7] #'in' keyword used to check whether the element is present or not.\n",
    "3 in list1"
   ]
  },
  {
   "cell_type": "code",
   "execution_count": 7,
   "id": "1eb0df45-a01a-4cc0-9ae2-7c157ebb16f5",
   "metadata": {},
   "outputs": [
    {
     "name": "stdout",
     "output_type": "stream",
     "text": [
      "[8, 7, 6, 5, 4, 3, 2, 1]\n"
     ]
    }
   ],
   "source": [
    "#reverse a list\n",
    "a = [1,2,3,4,5,6,7,8]\n",
    "a.reverse()\n",
    "print(a)"
   ]
  },
  {
   "cell_type": "code",
   "execution_count": null,
   "id": "eb87814b-55b3-4108-94f1-289ad7e65318",
   "metadata": {},
   "outputs": [],
   "source": [
    "Task : Data Cleaning\n",
    "You have a list responses containing responses from a survey. However, \n",
    "some responses are recorded as empty strings due to data entry errors.\n",
    "Your task is to remove these empty responses from the list.\n",
    "Write Python code to remove all empty responses from the responses list\n",
    "\n",
    "responses = [\"Yes\",\"\",\"No\",\"\",\"Maybe\",\"\",\"\",\"Yes\",\"No\"]\n"
   ]
  },
  {
   "cell_type": "code",
   "execution_count": 89,
   "id": "ef8b3081-0e98-4245-a0df-ae7d00ed63e7",
   "metadata": {},
   "outputs": [
    {
     "name": "stdout",
     "output_type": "stream",
     "text": [
      "['Yes', 'No', 'Maybe', 'Yes', 'No']\n"
     ]
    }
   ],
   "source": [
    "responses = [\"Yes\",\"\",\"No\",\"\",\"Maybe\",\"\",\"\",\"Yes\",\"No\"]\n",
    "clean = []\n",
    "for response in responses:\n",
    "    if response!=\"\":\n",
    "        clean.append(response)\n",
    "    else:\n",
    "        pass\n",
    "print(clean)"
   ]
  },
  {
   "cell_type": "code",
   "execution_count": null,
   "id": "09225714-ef42-4e1d-8d71-8a351d39df77",
   "metadata": {},
   "outputs": [],
   "source": [
    "Data Analysis Scenario:\n",
    "You have two lists containing exam scores of students from two different classes.\n",
    "The lists are class1_scores and class2_scores.\n",
    "You need to analyze the performance\n",
    "of the classes by calculating the average score for each class.\n",
    "Write Python code to calculate the average score for each class.\n",
    "\n",
    "class1_scores = [85, 90, 88, 92, 78]\n",
    "class2_scores = [75,82,80,85,89]\n",
    "             "
   ]
  },
  {
   "cell_type": "code",
   "execution_count": 91,
   "id": "ee6f6acc-7b60-4101-9ad2-121f34092ddd",
   "metadata": {},
   "outputs": [
    {
     "name": "stdout",
     "output_type": "stream",
     "text": [
      "Class 1 avg score is : 86.6\n",
      "Class 2 avg score is : 82.2\n"
     ]
    }
   ],
   "source": [
    "class1_scores = [85, 90, 88, 92, 78]\n",
    "class2_scores = [75,82,80,85,89]\n",
    "avg_score_1 = sum(class1_scores)/len(class1_scores)\n",
    "avg_score_2 = sum(class2_scores)/len(class2_scores)\n",
    "print(\"Class 1 avg score is :\",avg_score_1)\n",
    "print(\"Class 2 avg score is :\",avg_score_2)"
   ]
  },
  {
   "cell_type": "code",
   "execution_count": null,
   "id": "0a24165c-1961-4e08-8078-ecf64d02a6e8",
   "metadata": {},
   "outputs": [],
   "source": [
    "Given to lists . \n",
    "list1 = [[1,2],[3,4],[5,6]]\n",
    "list2 = [[7,8],[9,10]]\n",
    "concatenate them into a single list"
   ]
  },
  {
   "cell_type": "code",
   "execution_count": 93,
   "id": "7a421f85-f5ed-4257-8b62-3539bbc1c773",
   "metadata": {},
   "outputs": [
    {
     "name": "stdout",
     "output_type": "stream",
     "text": [
      "[[1, 2], [3, 4], [5, 6], [7, 8], [9, 10]]\n"
     ]
    }
   ],
   "source": [
    "list1 = [[1,2],[3,4],[5,6]]\n",
    "list2 = [[7,8],[9,10]]\n",
    "list1 = list1 + list2\n",
    "print(list1)"
   ]
  },
  {
   "cell_type": "code",
   "execution_count": null,
   "id": "cf737a71-3795-4498-9afd-0271ca5d66ef",
   "metadata": {},
   "outputs": [],
   "source": [
    "Given a list of senetences\n",
    "[\"hello world!\",\"python is awesome\",\"I love coding\"]\n",
    "Join the sentence into a single string separated by newline characters\n"
   ]
  },
  {
   "cell_type": "code",
   "execution_count": 95,
   "id": "931d38ea-d836-4029-a5ac-b27d53b4aa7c",
   "metadata": {},
   "outputs": [
    {
     "name": "stdout",
     "output_type": "stream",
     "text": [
      "hello world!\n",
      "python is awesome\n",
      "I love coding\n"
     ]
    }
   ],
   "source": [
    "List = [\"hello world!\",\"python is awesome\",\"I love coding\"]\n",
    "result = \"\\n\".join(List)\n",
    "print(result)\n"
   ]
  },
  {
   "cell_type": "code",
   "execution_count": null,
   "id": "ef9e9e84-8909-4141-a4b9-046af2b54cd4",
   "metadata": {},
   "outputs": [],
   "source": [
    "Create a list named data values having values [10,20,30,40,50].\n",
    "add the value 60 to the end of the list.\n",
    "insert the value 5 at the begining of the list \n",
    "remove the value 30 from the list\n",
    "print the modified list."
   ]
  },
  {
   "cell_type": "code",
   "execution_count": 5,
   "id": "f6d58d7c-1eee-437d-a5f6-bdaed111b4dd",
   "metadata": {},
   "outputs": [
    {
     "name": "stdout",
     "output_type": "stream",
     "text": [
      "[10, 20, 30, 40, 50, 60]\n",
      "[5, 10, 20, 30, 40, 50, 60]\n",
      "[5, 10, 20, 40, 50, 60]\n"
     ]
    }
   ],
   "source": [
    "data_values = [10,20,30,40,50]\n",
    "data_values.append(60)\n",
    "print(data_values)\n",
    "data_values.insert(0,5)\n",
    "print(data_values)\n",
    "data_values.remove(30)\n",
    "print(data_values)"
   ]
  },
  {
   "cell_type": "code",
   "execution_count": null,
   "id": "ebd2cbc0-c56d-44fa-9fb2-0dc87151d2a0",
   "metadata": {},
   "outputs": [],
   "source": [
    "You are managing student enrollments for a course and want to determine their enrollment status based on their course credits. \n",
    "Create a program that:\n",
    "1) Asks the user to Input the number of students.\n",
    "2) Asks the user to user to input the course credits for each student, storing then in a list\n",
    "3) Determines the enrollment status for each student\n",
    "\n",
    "\"Full-time if course credits are greater than or equal to 12.\n",
    "\"Part-tine if course credits are less than 12.\n",
    "\n",
    "4) Prints out the enrollment status for each sturent."
   ]
  },
  {
   "cell_type": "code",
   "execution_count": 37,
   "id": "d994e037-9027-4117-9250-de00c6d94d00",
   "metadata": {},
   "outputs": [
    {
     "name": "stdin",
     "output_type": "stream",
     "text": [
      "Enter the number of students:  3\n",
      "Enter the credits for student 1:  10\n",
      "Enter the credits for student 2:  11\n",
      "Enter the credits for student 3:  12\n"
     ]
    },
    {
     "name": "stdout",
     "output_type": "stream",
     "text": [
      "Student 1: Part-time\n",
      "Student 2: Part-time\n",
      "Student 3: Full-time\n"
     ]
    }
   ],
   "source": [
    "# Asking for the number of students\n",
    "num_students = int(input(\"Enter the number of students: \"))\n",
    "\n",
    "# List to store the course credits\n",
    "course_credits = []\n",
    "\n",
    "# Input course credits for each student\n",
    "for i in range(num_students):\n",
    "    credits = int(input(f\"Enter the credits for student {i+1}: \"))\n",
    "    course_credits.append(credits)\n",
    "\n",
    "# List to store the enrollment status\n",
    "enrollment_status = []\n",
    "\n",
    "# Determine the enrollment status based on course credits\n",
    "for credits in course_credits:\n",
    "    if credits >= 12:\n",
    "        enrollment_status.append(\"Full-time\")\n",
    "    else:\n",
    "        enrollment_status.append(\"Part-time\")\n",
    "\n",
    "# Print out the enrollment status for each student\n",
    "for i in range(num_students):  # Changed 'num' to 'i' for clarity\n",
    "    print(f\"Student {i+1}: {enrollment_status[i]}\")\n",
    "\n",
    "    "
   ]
  },
  {
   "cell_type": "code",
   "execution_count": null,
   "id": "5aa53e74-388e-4702-b322-d7374482fbbd",
   "metadata": {},
   "outputs": [],
   "source": [
    "Age Group Classification\n",
    "You are analyzing demographic data and want to classify people into different age groups. Create a program that:\n",
    "Asks the user to input the number of people.\n",
    "Asks the user to input the ages of each person, storing then in a list.\n",
    "Classifies each person into one of the following\n",
    "age groups: \"Child\" (age <18), \"Adult\" (18 <= age <  65), or \"Senior\" (age > 65).\n",
    "Prints out the number of people in each age group."
   ]
  },
  {
   "cell_type": "code",
   "execution_count": 55,
   "id": "d7f78b54-676d-4f24-8a3e-ac293302e80c",
   "metadata": {},
   "outputs": [
    {
     "name": "stdin",
     "output_type": "stream",
     "text": [
      "Enter the number of students:  5\n",
      "Enter the ages of a person:  7\n",
      "Enter the ages of a person:  16\n",
      "Enter the ages of a person:  78\n",
      "Enter the ages of a person:  90\n",
      "Enter the ages of a person:  19\n"
     ]
    },
    {
     "name": "stdout",
     "output_type": "stream",
     "text": [
      "Children are :  2\n",
      "Adult are :  1\n",
      "senior_count : 2\n"
     ]
    }
   ],
   "source": [
    "number_of_people = int(input(\"Enter the number of students: \"))\n",
    "age = []\n",
    "for i in range(number_of_people):\n",
    "    people_age = int(input(\"Enter the ages of a person: \"))\n",
    "    age.append(people_age)\n",
    "child_count = 0\n",
    "adult_count = 0\n",
    "senior_count = 0\n",
    "for ages in age :\n",
    "    if ages < 18:\n",
    "        child_count+=1\n",
    "    elif ages >=18 and ages <=65:\n",
    "        adult_count+=1\n",
    "    else:\n",
    "        senior_count+=1\n",
    "        \n",
    "print(\"Children are : \",child_count)\n",
    "print(\"Adult are : \",adult_count)\n",
    "print(\"senior_count :\",senior_count)\n",
    "    \n"
   ]
  },
  {
   "cell_type": "code",
   "execution_count": 1,
   "id": "ce778c2f-172b-40a9-ba6b-bd00edcaaf3c",
   "metadata": {},
   "outputs": [
    {
     "name": "stdout",
     "output_type": "stream",
     "text": [
      "[1, 2, 3, 4, 5, 6, 7, 8, 9, 10]\n"
     ]
    }
   ],
   "source": [
    "List = [x for x in range(1,11)]\n",
    "print(List)"
   ]
  },
  {
   "cell_type": "code",
   "execution_count": 3,
   "id": "6576989f-e29a-48d0-9ab8-87b40612403c",
   "metadata": {},
   "outputs": [
    {
     "name": "stdout",
     "output_type": "stream",
     "text": [
      "{1: 1, 2: 4, 3: 9, 4: 16, 5: 25, 6: 36, 7: 49, 8: 64, 9: 81, 10: 100}\n"
     ]
    }
   ],
   "source": [
    "dict = {i:i**2 for i in range(1,11)}\n",
    "print(dict)"
   ]
  },
  {
   "cell_type": "code",
   "execution_count": 5,
   "id": "52d973d1-c603-468e-be1b-cb9cdb81991c",
   "metadata": {},
   "outputs": [
    {
     "name": "stdout",
     "output_type": "stream",
     "text": [
      "{1, 2, 3, 4, 5, 6, 7, 8, 9, 10}\n"
     ]
    }
   ],
   "source": [
    "set = {x for x in range(1,11)}\n",
    "print(set)"
   ]
  },
  {
   "cell_type": "code",
   "execution_count": 7,
   "id": "5e6daac4-00fa-463d-8281-55787dc9fc6e",
   "metadata": {},
   "outputs": [
    {
     "name": "stdout",
     "output_type": "stream",
     "text": [
      "<generator object <genexpr> at 0x132c9cc40>\n"
     ]
    }
   ],
   "source": [
    "tup = (x for x in range(1,11))\n",
    "print(tup)"
   ]
  }
 ],
 "metadata": {
  "kernelspec": {
   "display_name": "Python 3 (ipykernel)",
   "language": "python",
   "name": "python3"
  },
  "language_info": {
   "codemirror_mode": {
    "name": "ipython",
    "version": 3
   },
   "file_extension": ".py",
   "mimetype": "text/x-python",
   "name": "python",
   "nbconvert_exporter": "python",
   "pygments_lexer": "ipython3",
   "version": "3.12.10"
  }
 },
 "nbformat": 4,
 "nbformat_minor": 5
}
