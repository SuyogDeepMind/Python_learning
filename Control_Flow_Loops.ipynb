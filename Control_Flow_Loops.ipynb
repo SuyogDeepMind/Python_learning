{
 "cells": [
  {
   "cell_type": "code",
   "execution_count": 1,
   "id": "8ed45af1-a8c7-4bfb-a628-862a7907802f",
   "metadata": {},
   "outputs": [
    {
     "name": "stdout",
     "output_type": "stream",
     "text": [
      "20 is greater than 10\n"
     ]
    }
   ],
   "source": [
    "i = 20\n",
    "if i>10:\n",
    "    print(\"20 is greater than 10\")"
   ]
  },
  {
   "cell_type": "code",
   "execution_count": 3,
   "id": "ce56a714-923c-4ba5-a720-51dfe7e57868",
   "metadata": {},
   "outputs": [
    {
     "name": "stdout",
     "output_type": "stream",
     "text": [
      "Condition is false\n"
     ]
    }
   ],
   "source": [
    "i = 20\n",
    "if i<10:\n",
    "    print(\"20 is greater than 10\")\n",
    "print(\"Condition is false\")"
   ]
  },
  {
   "cell_type": "code",
   "execution_count": null,
   "id": "241a2f65-c204-4791-9548-bf6733f6ba29",
   "metadata": {},
   "outputs": [],
   "source": [
    "Develop a temperature converter in Python for a cold storage that converts temperatures between Celsius and Fahrenheit scales. \n",
    "The program should take a temperature value and a unit (C or F) as input. \n",
    "If the temperature is less than 15 degrees Celsius, inform the user that the temperature is not convenient.\n",
    "If the temperature is between 24 to 28 degrees Celsius, inform the user that the temperature is convenient"
   ]
  },
  {
   "cell_type": "code",
   "execution_count": 5,
   "id": "1e64e450-0346-4240-ac50-7d76a53139ec",
   "metadata": {},
   "outputs": [
    {
     "name": "stdin",
     "output_type": "stream",
     "text": [
      "Enter the value of Temperature:  26\n"
     ]
    },
    {
     "name": "stdout",
     "output_type": "stream",
     "text": [
      "Temperature is convenient\n"
     ]
    }
   ],
   "source": [
    "temperature = float(input(\"Enter the value of Temperature: \"))\n",
    "if(temperature < 15):\n",
    "    print(\"Temperature is not convenient\")\n",
    "elif(temperature > 24 and temperature < 28):\n",
    "    print(\"Temperature is convenient\")\n",
    "\n",
    "                          "
   ]
  },
  {
   "cell_type": "code",
   "execution_count": null,
   "id": "89022db0-a523-4975-a20c-fcf7697c9d52",
   "metadata": {},
   "outputs": [],
   "source": [
    "Write a program to check whether the person is eligible for vote or not ."
   ]
  },
  {
   "cell_type": "code",
   "execution_count": 9,
   "id": "51e43b92-b9d9-4b4c-b892-adf29166ecf5",
   "metadata": {},
   "outputs": [
    {
     "name": "stdin",
     "output_type": "stream",
     "text": [
      "Enter the age :  16\n"
     ]
    },
    {
     "name": "stdout",
     "output_type": "stream",
     "text": [
      "not eligible\n"
     ]
    }
   ],
   "source": [
    "age = int(input(\"Enter the age : \"))\n",
    "if age>=18:\n",
    "    print(\"eligible for vote\")\n",
    "else:\n",
    "    print(\"not eligible\")"
   ]
  },
  {
   "cell_type": "code",
   "execution_count": null,
   "id": "619111c8-29a0-4f1c-85d2-6cf794335795",
   "metadata": {},
   "outputs": [],
   "source": [
    "You are tasked with developing a Python program to manage employee salaries for a company. \n",
    "Your program should calculate the net salary of each employee based on their base salary, deductions, and bonuses. \n",
    "Additionally, employees who have been with the company for more than 5 years are eligible for an additional loyalty bonus,\n",
    "8% of salary. Deductions of tax will be 12%. write a Python script that prompts the user to input the following information for \n",
    "each employee: Base salary,Years of service,After calculating the net salary,the program should print a summary for each employee\n",
    "including their base salary, deductions, bonuses, loyalty bonus (if applicable), and net salary."
   ]
  },
  {
   "cell_type": "code",
   "execution_count": 19,
   "id": "afd97eae-be71-4af5-be8a-f56a0f8c65db",
   "metadata": {},
   "outputs": [
    {
     "name": "stdin",
     "output_type": "stream",
     "text": [
      "Enter the base salary of the user:  50000\n",
      "Enter number of years:  3\n"
     ]
    },
    {
     "name": "stdout",
     "output_type": "stream",
     "text": [
      "You will get net salary is :  44000.0\n"
     ]
    }
   ],
   "source": [
    "base_salary = float(input(\"Enter the base salary of the user: \"))\n",
    "no_of_years = int(input(\"Enter number of years: \"))\n",
    "\n",
    "if no_of_years > 5:\n",
    "    total_salary = base_salary + (0.08 * base_salary) - (0.12 * base_salary)\n",
    "    print(\"You will get the net salary is : \",total_salary)\n",
    "\n",
    "else:\n",
    "    total_salary = base_salary - (0.12 * base_salary)\n",
    "    print(\"You will get net salary is : \",total_salary)\n"
   ]
  },
  {
   "cell_type": "code",
   "execution_count": null,
   "id": "0b981f84-d40e-48d8-b5d4-80df21eeafbd",
   "metadata": {},
   "outputs": [],
   "source": [
    "Write a Python program that prompts the user to input a city and displays the famous monument of that city. \n",
    "Mumbai: Gateway of India\n",
    "Kolkata: Victoria Memorial\n",
    "Chennai: Marina Beach\n",
    "Bangalore: Botanical Garden\n",
    "Pune: Shaniwar Wada\n",
    "\n",
    "Write a Python script to implement this functionality"
   ]
  },
  {
   "cell_type": "code",
   "execution_count": 1,
   "id": "e729c436-381c-437d-a5b5-729bd4eb7fee",
   "metadata": {},
   "outputs": [
    {
     "name": "stdin",
     "output_type": "stream",
     "text": [
      "Enter the name of the city Pune\n"
     ]
    },
    {
     "name": "stdout",
     "output_type": "stream",
     "text": [
      "Shanivarwada\n"
     ]
    }
   ],
   "source": [
    "city = input(\"Enter the name of the city\")\n",
    "if city == \"Mumbai\":\n",
    "    print(\"Gateway of India\")\n",
    "elif city == \"Kolkata\":\n",
    "    print(\"Victoria Memorial\")\n",
    "elif city == \"Chennai\":\n",
    "    print(\"Marina beach\")\n",
    "elif city == \"Banglore\":\n",
    "    print(\"Botanical Garden\")\n",
    "elif city == \"Pune\":\n",
    "    print(\"Shanivarwada\")\n",
    "else: \n",
    "    print(\"monument doesn't exists in city selected\")\n",
    "    "
   ]
  },
  {
   "cell_type": "markdown",
   "id": "5dadd350-50b8-44c6-b2d4-b067d6282eb4",
   "metadata": {},
   "source": [
    "# Loops"
   ]
  },
  {
   "cell_type": "markdown",
   "id": "b39fd01f-046b-4c00-8029-5a87dec2e473",
   "metadata": {},
   "source": [
    "# while Loop"
   ]
  },
  {
   "cell_type": "code",
   "execution_count": 7,
   "id": "ca9bb17f-ae4b-4e8c-906f-995c42f042be",
   "metadata": {},
   "outputs": [
    {
     "name": "stdout",
     "output_type": "stream",
     "text": [
      "1\n",
      "2\n",
      "3\n",
      "4\n",
      "5\n"
     ]
    }
   ],
   "source": [
    "# print 1 to 5\n",
    "i = 1\n",
    "while i<=5:\n",
    "    print(i)\n",
    "    i = i+1"
   ]
  },
  {
   "cell_type": "code",
   "execution_count": 11,
   "id": "fb1b0c0e-1a39-468e-a547-e7e722468fc9",
   "metadata": {},
   "outputs": [
    {
     "name": "stdout",
     "output_type": "stream",
     "text": [
      "2\n",
      "4\n",
      "6\n",
      "8\n",
      "10\n",
      "12\n",
      "14\n",
      "16\n",
      "18\n",
      "20\n",
      "22\n",
      "24\n",
      "26\n",
      "28\n",
      "30\n",
      "32\n",
      "34\n",
      "36\n",
      "38\n",
      "40\n",
      "42\n",
      "44\n",
      "46\n",
      "48\n",
      "50\n"
     ]
    }
   ],
   "source": [
    "#write a python program to print even no's between 1 to 50\n",
    "i = 1\n",
    "while i<=50 :\n",
    "    if i%2 ==0:\n",
    "        print(i)\n",
    "    i = i+1\n",
    "    "
   ]
  },
  {
   "cell_type": "code",
   "execution_count": null,
   "id": "e486b532-6fa6-4653-9582-af1be68897e7",
   "metadata": {},
   "outputs": [],
   "source": [
    "You are tasked with validating user input for email addresses.\n",
    "Write a Python program that prompts the user to enter an email address.\n",
    "Use a while loop to iterate through the input and check if the email address contains an \"@\" symbol and a\".\" symbol.\n",
    "If the email address does not meet these criteria, print \"Invalid email address format.\n",
    "Please try again.\" Otherwise, print \"Email address validation passed"
   ]
  },
  {
   "cell_type": "code",
   "execution_count": 17,
   "id": "11a1cd7d-6891-408d-a588-c28b464a58c8",
   "metadata": {},
   "outputs": [
    {
     "name": "stdin",
     "output_type": "stream",
     "text": [
      "Enter your email address : suyogmanke4@gmail.com\n"
     ]
    },
    {
     "name": "stdout",
     "output_type": "stream",
     "text": [
      "email address validation passed\n"
     ]
    }
   ],
   "source": [
    "email = input(\"Enter your email address :\")\n",
    "valid_email = False\n",
    "\n",
    "while not valid_email:\n",
    "    if \"@\" in email and \".\" in email:\n",
    "        print(\"email address validation passed\")\n",
    "        valid_email = True\n",
    "    else:\n",
    "        print(\"Wrong email address\")\n",
    "        email = input(\"Enter your email address :\")\n",
    "        "
   ]
  },
  {
   "cell_type": "markdown",
   "id": "c032452d-0225-4bc1-90f0-9e1c79dbdabd",
   "metadata": {},
   "source": [
    "# for Loop"
   ]
  },
  {
   "cell_type": "code",
   "execution_count": 20,
   "id": "d3c90019-29ac-4d20-a9c7-11c0c5e3b788",
   "metadata": {},
   "outputs": [
    {
     "name": "stdout",
     "output_type": "stream",
     "text": [
      "1\n",
      "2\n",
      "3\n",
      "4\n",
      "5\n"
     ]
    }
   ],
   "source": [
    "numbers = [1,2,3,4,5]\n",
    "for i in numbers:\n",
    "    print(i)"
   ]
  },
  {
   "cell_type": "code",
   "execution_count": 22,
   "id": "9c25006e-32d4-477f-a145-df22ac4551d6",
   "metadata": {},
   "outputs": [
    {
     "name": "stdout",
     "output_type": "stream",
     "text": [
      "S\n",
      "t\n",
      "u\n",
      "d\n",
      "e\n",
      "n\n",
      "t\n"
     ]
    }
   ],
   "source": [
    "str = \"Student\"\n",
    "for i in str:\n",
    "    print(i)"
   ]
  },
  {
   "cell_type": "code",
   "execution_count": 30,
   "id": "597ea70f-313a-4869-ab52-8b8f26dbeb58",
   "metadata": {},
   "outputs": [
    {
     "name": "stdout",
     "output_type": "stream",
     "text": [
      "0\n",
      "1\n",
      "2\n",
      "3\n",
      "4\n",
      "5\n",
      "6\n",
      "7\n",
      "8\n",
      "9\n"
     ]
    }
   ],
   "source": [
    "for i in range(10):\n",
    "    print(i)"
   ]
  },
  {
   "cell_type": "code",
   "execution_count": 24,
   "id": "21783a6e-6799-464d-9ad9-4a53b1a1329d",
   "metadata": {},
   "outputs": [
    {
     "name": "stdout",
     "output_type": "stream",
     "text": [
      "0\n",
      "1\n",
      "2\n",
      "3\n",
      "4\n",
      "5\n",
      "6\n",
      "7\n",
      "8\n",
      "9\n"
     ]
    }
   ],
   "source": [
    "for i in range(0,10):\n",
    "    print(i)"
   ]
  },
  {
   "cell_type": "code",
   "execution_count": 28,
   "id": "ffc84cce-010c-404e-bb91-f5019eba681e",
   "metadata": {},
   "outputs": [
    {
     "name": "stdout",
     "output_type": "stream",
     "text": [
      "0\n",
      "2\n",
      "4\n",
      "6\n",
      "8\n"
     ]
    }
   ],
   "source": [
    "for i in range(0,10,2):\n",
    "    print(i)"
   ]
  },
  {
   "cell_type": "code",
   "execution_count": 32,
   "id": "24cac250-21ea-4197-b5a1-78a1e643c6ac",
   "metadata": {},
   "outputs": [
    {
     "name": "stdout",
     "output_type": "stream",
     "text": [
      "2\n",
      "4\n",
      "6\n",
      "8\n",
      "10\n",
      "12\n",
      "14\n",
      "16\n",
      "18\n",
      "20\n",
      "22\n",
      "24\n"
     ]
    }
   ],
   "source": [
    "#print even no's between 1 to 25\n",
    "for i in range(1,25):\n",
    "    if i%2 == 0:\n",
    "        print(i)"
   ]
  },
  {
   "cell_type": "code",
   "execution_count": 34,
   "id": "4c0b1c51-6585-4f8b-907e-1080dc3819ae",
   "metadata": {},
   "outputs": [
    {
     "name": "stdout",
     "output_type": "stream",
     "text": [
      "odd no is 1\n",
      "even no is 2\n",
      "odd no is 3\n",
      "even no is 4\n",
      "odd no is 5\n",
      "even no is 6\n",
      "odd no is 7\n",
      "even no is 8\n",
      "odd no is 9\n",
      "even no is 10\n",
      "odd no is 11\n",
      "even no is 12\n",
      "odd no is 13\n",
      "even no is 14\n",
      "odd no is 15\n",
      "even no is 16\n",
      "odd no is 17\n",
      "even no is 18\n",
      "odd no is 19\n",
      "even no is 20\n",
      "odd no is 21\n",
      "even no is 22\n",
      "odd no is 23\n",
      "even no is 24\n"
     ]
    }
   ],
   "source": [
    "#print even no's and odd no's between 1 to 25\n",
    "for i in range(1,25):\n",
    "    if i%2 == 0:\n",
    "        print(\"even no is\",i)\n",
    "    else:\n",
    "        print(\"odd no is\",i)"
   ]
  },
  {
   "cell_type": "code",
   "execution_count": 36,
   "id": "d4d8a66e-0563-4048-88d3-f7be97f8c679",
   "metadata": {},
   "outputs": [
    {
     "name": "stdout",
     "output_type": "stream",
     "text": [
      "5\n",
      "10\n",
      "15\n",
      "20\n",
      "25\n",
      "30\n",
      "35\n",
      "40\n",
      "45\n",
      "50\n"
     ]
    }
   ],
   "source": [
    "#print table of 5\n",
    "for i in range(5,55,5):\n",
    "    print(i)"
   ]
  },
  {
   "cell_type": "code",
   "execution_count": 40,
   "id": "fdaea96d-3912-4412-8514-d03a3f190ac2",
   "metadata": {},
   "outputs": [
    {
     "name": "stdin",
     "output_type": "stream",
     "text": [
      "Enter the number : 5\n"
     ]
    },
    {
     "name": "stdout",
     "output_type": "stream",
     "text": [
      " 5 * 1 = 5\n",
      " 5 * 2 = 10\n",
      " 5 * 3 = 15\n",
      " 5 * 4 = 20\n",
      " 5 * 5 = 25\n",
      " 5 * 6 = 30\n",
      " 5 * 7 = 35\n",
      " 5 * 8 = 40\n",
      " 5 * 9 = 45\n",
      " 5 * 10 = 50\n"
     ]
    }
   ],
   "source": [
    "#print table of 5\n",
    "number = int(input(\"Enter the number :\"))\n",
    "for i in range(1,11):\n",
    "    print(f\" {number} * {i} = {number * i}\")\n",
    "    "
   ]
  },
  {
   "cell_type": "code",
   "execution_count": null,
   "id": "11ef65a5-28ce-4667-91a6-2102dec326b4",
   "metadata": {},
   "outputs": [],
   "source": [
    "you are tasked with creating a program to assist shoppers in calculating their total bill at a grocery store.\n",
    "The store offers discounts based on the total purchase amount. Your task is to implement a Python program that takes the price of each\n",
    "item purchased and calculates the total bill, including any applicable discounts. The store offers the following discount rates based \n",
    "on the total purchase amount: If the total purchase amount is $100 or more, the customer receives a 10% discount.\n",
    "If the total purchase amount is between $50 and $99.99, the customer receives a 5% discount.\n",
    "If the total purchase amount is less than $50, no discount is applied.\n",
    "\n",
    "Write a Python program to prompt the user to enter the prices of the items they purchased.\n",
    "\n",
    "Use a for loop to iterate through the prices on the total purchase amount using if-else statements.\n",
    "\n",
    "entered and calculate the subtotal. Apply the appropriate discount based\n",
    "\n",
    "Finally, print out the subtotal, discount amount (if any), and the total bill after applying the discount.\n"
   ]
  },
  {
   "cell_type": "code",
   "execution_count": 52,
   "id": "ec3bcf84-8981-49b7-8569-7ba420189a8a",
   "metadata": {},
   "outputs": [
    {
     "name": "stdin",
     "output_type": "stream",
     "text": [
      "Number of items : 3\n",
      "Enter the price of the item : 23\n",
      "Enter the price of the item : 32\n",
      "Enter the price of the item : 57\n"
     ]
    },
    {
     "name": "stdout",
     "output_type": "stream",
     "text": [
      "total bill amount is : 100.8\n"
     ]
    }
   ],
   "source": [
    "num_items = int(input(\"Number of items :\"))\n",
    "total_price = 0\n",
    "for i in range(num_items):\n",
    "    price = float(input(\"Enter the price of the item :\"))\n",
    "    total_price = price + total_price\n",
    "    i = i+1\n",
    "if total_price >= 100:\n",
    "    discount = 0.1 * total_price\n",
    "elif total_price>= 50 and total_price <100:\n",
    "    discount = 0.05 * total_price\n",
    "else: discount = 0\n",
    "\n",
    "total_bill = total_price - discount\n",
    "print(\"total bill amount is :\",total_bill)\n",
    "    "
   ]
  },
  {
   "cell_type": "code",
   "execution_count": 56,
   "id": "73fab643-772f-45a7-b647-6bdae4070d17",
   "metadata": {},
   "outputs": [
    {
     "name": "stdout",
     "output_type": "stream",
     "text": [
      "0\n",
      "1\n",
      "2\n"
     ]
    }
   ],
   "source": [
    "# Break Statement\n",
    "# We can use the break statement with the for loop to terminate the loop when a certain condition is met.\n",
    "for i in range(5):\n",
    "    if i == 3:\n",
    "        break\n",
    "    print(i)\n"
   ]
  },
  {
   "cell_type": "code",
   "execution_count": 58,
   "id": "48571a83-a00c-4250-b8a3-d73321e14454",
   "metadata": {},
   "outputs": [
    {
     "name": "stdout",
     "output_type": "stream",
     "text": [
      "0\n",
      "1\n",
      "2\n",
      "4\n"
     ]
    }
   ],
   "source": [
    "# Continue Statement\n",
    "#continue statement is used to skip the current iteration of the loop and the control flow of the program goes to the next iteration.\n",
    "for i in range(5):\n",
    "    if i == 3:\n",
    "        continue\n",
    "    print(i)"
   ]
  },
  {
   "cell_type": "code",
   "execution_count": 60,
   "id": "606239a8-b6e8-4901-8cd5-75b39e565cc6",
   "metadata": {},
   "outputs": [
    {
     "name": "stdout",
     "output_type": "stream",
     "text": [
      "2\n",
      "4\n",
      "6\n",
      "8\n",
      "10\n"
     ]
    }
   ],
   "source": [
    "numbers = [1,2,3,4,5]\n",
    "for i in numbers:\n",
    "    print(i*2)"
   ]
  },
  {
   "cell_type": "code",
   "execution_count": null,
   "id": "fe089353-c2e3-44d7-b9e2-a762022ba994",
   "metadata": {},
   "outputs": [],
   "source": [
    "You are given a dataset of student grades and need to determine the grade distribution.\n",
    "Question: Write a Python function grade_distribution (grades) that takes a list of integers representing student grades (0-100).\n",
    "Use a loop to count the number of grades in each grade category: 'A' (90-100), 'B' (80-89), 'C' (70-79), 'D' (60-69), and 'F' (below 60).\n",
    "Use if-elif-else statements within the loop to categorize the grades."
   ]
  },
  {
   "cell_type": "code",
   "execution_count": 5,
   "id": "4ab6140b-4040-4654-ab3f-a361cc55a58b",
   "metadata": {},
   "outputs": [],
   "source": [
    "def grade_distribution(grades):\n",
    "    for i in grades:\n",
    "        if i>=90 :\n",
    "            print(\"A Grade\")\n",
    "        elif i>=80 and i<=89:\n",
    "            print(\"B Grade\")\n",
    "        elif i>=70 and i<=79:\n",
    "            print(\"C Grade\")\n",
    "        elif i>=60 and i<=69:\n",
    "            print(\"D Grade\")\n",
    "        else:\n",
    "            print(\"E\")\n",
    "    return"
   ]
  },
  {
   "cell_type": "code",
   "execution_count": 7,
   "id": "860a28d0-dfe6-438e-9bd9-622a86ea3119",
   "metadata": {},
   "outputs": [
    {
     "name": "stdout",
     "output_type": "stream",
     "text": [
      "B Grade\n",
      "A Grade\n",
      "B Grade\n",
      "C Grade\n",
      "D Grade\n",
      "A Grade\n",
      "C Grade\n",
      "E\n",
      "B Grade\n",
      "D Grade\n",
      "A Grade\n",
      "C Grade\n"
     ]
    }
   ],
   "source": [
    "grades = [85,92,88,74,63,95,70,58,82,67,99,73]\n",
    "grade_distribution(grades)"
   ]
  },
  {
   "cell_type": "code",
   "execution_count": null,
   "id": "285aa0af-6ea6-43cc-8368-2e0f9f56c04a",
   "metadata": {},
   "outputs": [],
   "source": [
    "def"
   ]
  }
 ],
 "metadata": {
  "kernelspec": {
   "display_name": "Python 3 (ipykernel)",
   "language": "python",
   "name": "python3"
  },
  "language_info": {
   "codemirror_mode": {
    "name": "ipython",
    "version": 3
   },
   "file_extension": ".py",
   "mimetype": "text/x-python",
   "name": "python",
   "nbconvert_exporter": "python",
   "pygments_lexer": "ipython3",
   "version": "3.12.10"
  }
 },
 "nbformat": 4,
 "nbformat_minor": 5
}
