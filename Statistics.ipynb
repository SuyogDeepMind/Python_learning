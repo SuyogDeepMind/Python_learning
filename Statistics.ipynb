{
 "cells": [
  {
   "cell_type": "markdown",
   "id": "307772b4-d102-451c-aa2e-c0a3010f13b8",
   "metadata": {},
   "source": [
    "# mean"
   ]
  },
  {
   "cell_type": "code",
   "execution_count": 5,
   "id": "2d389e89-727e-4a62-b501-e6a874bbea07",
   "metadata": {},
   "outputs": [
    {
     "name": "stdout",
     "output_type": "stream",
     "text": [
      "Population mean is : 152.0\n",
      "Sample mean is : 35.0\n"
     ]
    }
   ],
   "source": [
    "#mean using manual method\n",
    "population = [100,150,160,170,180]\n",
    "sample = [25,45,40,30]\n",
    "population_mean = sum(population)/len(population)\n",
    "sample_mean = sum(sample)/len(sample)\n",
    "print(\"Population mean is :\",population_mean)\n",
    "print(\"Sample mean is :\",sample_mean)"
   ]
  },
  {
   "cell_type": "code",
   "execution_count": 7,
   "id": "f9f853a5-b966-445e-9c4c-e9c633046b59",
   "metadata": {},
   "outputs": [
    {
     "name": "stdout",
     "output_type": "stream",
     "text": [
      "The mean of the data is : 152.0\n"
     ]
    }
   ],
   "source": [
    "#mean using numpy library\n",
    "import numpy as np\n",
    "data = [100,150,160,170,180]\n",
    "arithmetic_mean = np.mean(data)\n",
    "print(\"The mean of the data is :\",arithmetic_mean)\n"
   ]
  },
  {
   "cell_type": "code",
   "execution_count": 11,
   "id": "0c6d6cc3-3d9e-45c1-85bd-dcb780620045",
   "metadata": {},
   "outputs": [
    {
     "name": "stdout",
     "output_type": "stream",
     "text": [
      "The mean of the data is : 152\n"
     ]
    }
   ],
   "source": [
    "#using statistics library\n",
    "import statistics as stats\n",
    "Data = [100,150,160,170,180]\n",
    "mean = stats.mean(Data)\n",
    "print(\"The mean of the data is :\",mean)"
   ]
  },
  {
   "cell_type": "code",
   "execution_count": 21,
   "id": "9c190020-5004-414f-a800-270a7a9bad01",
   "metadata": {},
   "outputs": [
    {
     "name": "stdout",
     "output_type": "stream",
     "text": [
      "The mean of the sepal length is:  5.843333333333334\n"
     ]
    }
   ],
   "source": [
    "#using seaborn library\n",
    "import seaborn as sns\n",
    "import numpy as np\n",
    "iris = sns.load_dataset('iris')\n",
    "iris.head()\n",
    "mean_sepal_length = np.mean(iris['sepal_length'])\n",
    "print(\"The mean of the sepal length is: \", mean_sepal_length)\n"
   ]
  },
  {
   "cell_type": "markdown",
   "id": "7e7cb3da-eb42-4881-a213-f04c5e754e38",
   "metadata": {},
   "source": [
    "# Median"
   ]
  },
  {
   "cell_type": "code",
   "execution_count": 31,
   "id": "6e3f9ba3-cdf4-41c0-bc2b-2049247549ae",
   "metadata": {},
   "outputs": [
    {
     "name": "stdout",
     "output_type": "stream",
     "text": [
      "25.0\n"
     ]
    }
   ],
   "source": [
    "#using numpy library\n",
    "import numpy as np\n",
    "data = [20,22,24,26,28,100]\n",
    "median = np.median(data)\n",
    "print(median)\n"
   ]
  },
  {
   "cell_type": "code",
   "execution_count": 33,
   "id": "6fa85ea6-4f3b-4d27-95ca-161fd9383b4a",
   "metadata": {},
   "outputs": [
    {
     "name": "stdout",
     "output_type": "stream",
     "text": [
      "46.0\n"
     ]
    }
   ],
   "source": [
    "#using statistics\n",
    "import statistics as stats\n",
    "data = [1,41,54,5,51,56]\n",
    "median = stats.median(data)\n",
    "print(median)"
   ]
  },
  {
   "cell_type": "code",
   "execution_count": 35,
   "id": "090f8d92-ee68-4f64-834c-c36e0115f117",
   "metadata": {},
   "outputs": [
    {
     "name": "stdout",
     "output_type": "stream",
     "text": [
      "25.0\n"
     ]
    }
   ],
   "source": [
    "#using pandas library\n",
    "import pandas as pd\n",
    "df = pd.DataFrame({'values':[20,22,24,26,28,30]})\n",
    "median_pandas = df['values'].median()\n",
    "print(median_pandas)"
   ]
  },
  {
   "cell_type": "code",
   "execution_count": 37,
   "id": "79d3b690-26a4-4876-805b-b2f821774044",
   "metadata": {},
   "outputs": [
    {
     "name": "stdout",
     "output_type": "stream",
     "text": [
      "The median of the sepal length is:  5.843333333333334\n"
     ]
    }
   ],
   "source": [
    "#using seaborn library\n",
    "import seaborn as sns\n",
    "import numpy as np\n",
    "iris = sns.load_dataset('iris')\n",
    "iris.head()\n",
    "median = np.mean(iris['sepal_length'])\n",
    "\n",
    "print(\"The median of the sepal length is: \", median)\n"
   ]
  },
  {
   "cell_type": "markdown",
   "id": "c64a5c82-0f3f-4e3b-b43b-1e0e0f311e8e",
   "metadata": {},
   "source": [
    "# mode"
   ]
  },
  {
   "cell_type": "code",
   "execution_count": 40,
   "id": "4e10cdde-566b-432f-b046-00603f8d935e",
   "metadata": {},
   "outputs": [
    {
     "name": "stdout",
     "output_type": "stream",
     "text": [
      "85\n"
     ]
    }
   ],
   "source": [
    "#using statistics library\n",
    "import statistics as stats\n",
    "data = [85,90,90,95,85,85,96,80]\n",
    "mode = stats.mode(data)\n",
    "print(mode)"
   ]
  },
  {
   "cell_type": "code",
   "execution_count": 44,
   "id": "12975b52-ec5e-41b6-b496-56dc4b044752",
   "metadata": {},
   "outputs": [
    {
     "name": "stdout",
     "output_type": "stream",
     "text": [
      "[85, 90]\n"
     ]
    }
   ],
   "source": [
    "#using statistics library\n",
    "import statistics as stats\n",
    "data = [85,90,90,95,85,85,96,80,90]\n",
    "mode = stats.multimode(data)\n",
    "print(mode)"
   ]
  },
  {
   "cell_type": "markdown",
   "id": "c398422b-5131-4d92-a83d-033f3da0bc83",
   "metadata": {},
   "source": [
    "# Variance"
   ]
  },
  {
   "cell_type": "code",
   "execution_count": 4,
   "id": "6d09ce08-c389-4dbe-98ff-1d569bd72e07",
   "metadata": {},
   "outputs": [
    {
     "name": "stdout",
     "output_type": "stream",
     "text": [
      "sample variance is : 62.5\n",
      "Population_variance is : 50.0\n"
     ]
    }
   ],
   "source": [
    "import numpy as np\n",
    "data = [60,65,70,75,80]\n",
    "population_variance = np.var(data,ddof = 0) #ddof = 0 sample variance\n",
    "sample_variance = np.var(data,ddof = 1) # ddof = 1 population variance\n",
    "print(\"sample variance is :\",sample_variance)\n",
    "print(\"Population_variance is :\",population_variance)\n"
   ]
  },
  {
   "cell_type": "code",
   "execution_count": 6,
   "id": "1b52eaf2-0447-4fff-8722-5ca7e8b2cbb9",
   "metadata": {},
   "outputs": [
    {
     "name": "stdout",
     "output_type": "stream",
     "text": [
      "population variance is : 50.0\n",
      "Sample Variance is : 62.5\n"
     ]
    }
   ],
   "source": [
    "import pandas as pd\n",
    "data = [60,65,70,75,80]\n",
    "series = pd.Series(data)\n",
    "population_variance = series.var(ddof = 0)\n",
    "sample_variance = series.var()\n",
    "print(\"population variance is :\",population_variance)\n",
    "print(\"Sample Variance is :\",sample_variance)"
   ]
  },
  {
   "cell_type": "code",
   "execution_count": 10,
   "id": "74f56b26-8cc7-4ca5-b195-27beab9b0a9f",
   "metadata": {},
   "outputs": [
    {
     "name": "stdout",
     "output_type": "stream",
     "text": [
      "sample variance is: 62.5\n",
      "Population variance is : 50.0\n"
     ]
    }
   ],
   "source": [
    "from scipy import stats\n",
    "data = [60,65,70,75,80]\n",
    "sample_variance = stats.tvar(data)\n",
    "population_variance = stats.tvar(data,ddof = 0)\n",
    "print(\"sample variance is:\",sample_variance)\n",
    "print(\"Population variance is :\",population_variance)"
   ]
  },
  {
   "cell_type": "markdown",
   "id": "39b77cb0-13e8-4eb8-a418-687133ceed22",
   "metadata": {},
   "source": [
    "# Standard Deviation"
   ]
  },
  {
   "cell_type": "code",
   "execution_count": 13,
   "id": "e5ce1f68-e506-4a85-a514-cc353dd2619b",
   "metadata": {},
   "outputs": [
    {
     "name": "stdout",
     "output_type": "stream",
     "text": [
      "sample std : 7.905694150420948\n",
      "population std : 7.0710678118654755\n"
     ]
    }
   ],
   "source": [
    "import numpy as np\n",
    "data = [60,65,70,75,80]\n",
    "sample_std = np.std(data,ddof = 1)\n",
    "population_std = np.std(data,ddof = 0)\n",
    "print(\"sample std :\",sample_std)\n",
    "print(\"population std :\",population_std)"
   ]
  },
  {
   "cell_type": "code",
   "execution_count": 19,
   "id": "d1727a9f-f446-4532-aebd-c5488c132679",
   "metadata": {},
   "outputs": [
    {
     "name": "stdout",
     "output_type": "stream",
     "text": [
      "population std is : 7.0710678118654755\n",
      "Sample std is : 7.905694150420948\n"
     ]
    }
   ],
   "source": [
    "import pandas as pd\n",
    "data = [60,65,70,75,80]\n",
    "series = pd.Series(data)\n",
    "population_std = series.std(ddof = 0)\n",
    "sample_std = series.std()\n",
    "print(\"population std is :\",population_std)\n",
    "print(\"Sample std is :\",sample_std)"
   ]
  },
  {
   "cell_type": "code",
   "execution_count": 23,
   "id": "26aa70a3-d0dc-4a38-81d2-3e2f8752993c",
   "metadata": {},
   "outputs": [
    {
     "name": "stdout",
     "output_type": "stream",
     "text": [
      "sample std is: 7.905694150420948\n",
      "Population std is : 7.0710678118654755\n"
     ]
    }
   ],
   "source": [
    "from scipy import stats\n",
    "import math\n",
    "data = [60,65,70,75,80]\n",
    "sample_std = math.sqrt(stats.tvar(data))\n",
    "population_std = math.sqrt(stats.tvar(data,ddof = 0))\n",
    "print(\"sample std is:\",sample_std)\n",
    "print(\"Population std is :\",population_std)"
   ]
  },
  {
   "cell_type": "markdown",
   "id": "502466ae-e9e4-4796-b61a-4d19001ca024",
   "metadata": {},
   "source": [
    "# P test and T test"
   ]
  },
  {
   "cell_type": "code",
   "execution_count": 4,
   "id": "4e2ce394-e354-4a34-9e3d-3d8ecfcc8a0e",
   "metadata": {},
   "outputs": [
    {
     "name": "stdout",
     "output_type": "stream",
     "text": [
      "T-Statistics: -1.8399631534016674\n",
      "P-Value : 0.07089240398383381\n",
      "Accept the null hypothesis\n"
     ]
    }
   ],
   "source": [
    "import numpy as np\n",
    "from scipy import stats\n",
    "\n",
    "group_A = np.random.normal(75,10,30) # mean 75,std 10 and samples 30\n",
    "group_B = np.random.normal(80,12,30) # mean 80 , std 12 and samples 30 \n",
    "\n",
    "#perform independent t test\n",
    "t_statistic,p_value = stats.ttest_ind(group_A,group_B)\n",
    "print(f\"T-Statistics: {t_statistic}\")\n",
    "print(f\"P-Value : {p_value}\")\n",
    "\n",
    "alpha = 0.05\n",
    "if p_value <= alpha:\n",
    "    print(\"Reject the null hypothesis\")\n",
    "else:\n",
    "    print(\"Accept the null hypothesis\")"
   ]
  },
  {
   "cell_type": "code",
   "execution_count": null,
   "id": "1b158342-f8a5-43ca-9f90-5aa4d2c78d7c",
   "metadata": {},
   "outputs": [],
   "source": []
  }
 ],
 "metadata": {
  "kernelspec": {
   "display_name": "Python 3 (ipykernel)",
   "language": "python",
   "name": "python3"
  },
  "language_info": {
   "codemirror_mode": {
    "name": "ipython",
    "version": 3
   },
   "file_extension": ".py",
   "mimetype": "text/x-python",
   "name": "python",
   "nbconvert_exporter": "python",
   "pygments_lexer": "ipython3",
   "version": "3.12.4"
  }
 },
 "nbformat": 4,
 "nbformat_minor": 5
}
