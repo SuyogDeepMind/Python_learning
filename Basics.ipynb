{
 "cells": [
  {
   "cell_type": "code",
   "execution_count": 1,
   "id": "0a5b2ad5-17d9-4c05-8d8b-8410d0857e00",
   "metadata": {},
   "outputs": [],
   "source": [
    "#python script : a file that contains a set of instructions, or lines of code, that perform a specific task. it is a file with extension .py"
   ]
  },
  {
   "cell_type": "markdown",
   "id": "e7bd8b4b-d03b-4b20-b8d1-75cb1be74475",
   "metadata": {},
   "source": [
    "# Variables"
   ]
  },
  {
   "cell_type": "raw",
   "id": "83d6d351-54df-4194-a840-4b9086007cc9",
   "metadata": {},
   "source": [
    "\n",
    "1.A Python variable creates a reserved memory location to store a value.\n",
    "2. It is a name of a Memory Location.\n",
    "3.A variable can be initialised by assigning some value to begin with"
   ]
  },
  {
   "cell_type": "code",
   "execution_count": 3,
   "id": "138cafe9-a0ad-4d21-9de1-fcfbcf71727a",
   "metadata": {},
   "outputs": [],
   "source": [
    "x = 5"
   ]
  },
  {
   "cell_type": "code",
   "execution_count": 5,
   "id": "fee29130-c451-43f0-b5a8-e20051e9a2f9",
   "metadata": {},
   "outputs": [
    {
     "name": "stdout",
     "output_type": "stream",
     "text": [
      "10 hello Suyog 10.5\n"
     ]
    }
   ],
   "source": [
    "a = 10\n",
    "b = \"hello Suyog\"\n",
    "c = 10.5\n",
    "print(a,b,c)"
   ]
  },
  {
   "cell_type": "code",
   "execution_count": 9,
   "id": "233a7380-f00d-498d-b569-3471fc87d63d",
   "metadata": {},
   "outputs": [
    {
     "name": "stdout",
     "output_type": "stream",
     "text": [
      "No variables match your requested type.\n"
     ]
    }
   ],
   "source": [
    "%whos #used to print all the variables in the memory"
   ]
  },
  {
   "cell_type": "raw",
   "id": "f18e2ca4-7bfb-4b52-8e6b-9d9533bd3ad0",
   "metadata": {},
   "source": [
    "Rules.\n",
    "1.Variable can start only with letter or an underscores.\n",
    "2.cannot start with a number\n",
    "3.can contain only alphanumeric character and underscores only (A to Z, a to z, 0 to 9,_).\n",
    "4.Variable names are case-sensitive(age,AGE,Age are different).\n",
    "5.A variable name cannot be a python keyword."
   ]
  },
  {
   "cell_type": "markdown",
   "id": "ada90b99-ae12-4fd7-a40e-4b90fbe37456",
   "metadata": {},
   "source": [
    "# Data Types"
   ]
  },
  {
   "cell_type": "code",
   "execution_count": null,
   "id": "9bba4f5d-5bda-4c29-bfa6-b8a7d027d647",
   "metadata": {},
   "outputs": [],
   "source": [
    "1.Type of Data which a variable can Store"
   ]
  },
  {
   "cell_type": "code",
   "execution_count": 13,
   "id": "7df4c399-a24d-4db0-9ad7-99c166fad6f3",
   "metadata": {},
   "outputs": [
    {
     "name": "stdout",
     "output_type": "stream",
     "text": [
      "10\n",
      "<class 'int'>\n"
     ]
    }
   ],
   "source": [
    "#Integer Data Type\n",
    "a = 10\n",
    "print(a)\n",
    "print(type(a))"
   ]
  },
  {
   "cell_type": "code",
   "execution_count": 15,
   "id": "b53818a4-36e9-47fe-8466-664932813285",
   "metadata": {},
   "outputs": [
    {
     "name": "stdout",
     "output_type": "stream",
     "text": [
      "23.4\n",
      "<class 'float'>\n"
     ]
    }
   ],
   "source": [
    "#float Data type\n",
    "b = 23.4\n",
    "print(b)\n",
    "print(type(b))\n"
   ]
  },
  {
   "cell_type": "code",
   "execution_count": 17,
   "id": "5e0daa8c-bf08-4dfe-b10c-9b4e83f7499d",
   "metadata": {},
   "outputs": [
    {
     "name": "stdout",
     "output_type": "stream",
     "text": [
      "(2+3j)\n",
      "<class 'complex'>\n"
     ]
    }
   ],
   "source": [
    "#complex data type\n",
    "c = 2+3j\n",
    "print(c)\n",
    "print(type(c))"
   ]
  },
  {
   "cell_type": "markdown",
   "id": "8236b254-837e-41dc-9a05-a80a3a92eb66",
   "metadata": {},
   "source": [
    " # Practise Questions"
   ]
  },
  {
   "cell_type": "raw",
   "id": "36762a90-2adc-46ae-ae00-d4d422a2ad54",
   "metadata": {},
   "source": [
    "Imagine you're working on a customer management system, and you have the first name and last name of a customer stored as separate variables. You're developing a customer management system for a retail store in your database, you have the first name and last name of a customer stored as separate variables first_name \"John\" and ast name \"Doe\". How would you concatenate these strings to form the full name \"John Doe\" for the customer's profile"
   ]
  },
  {
   "cell_type": "code",
   "execution_count": 20,
   "id": "e2491e20-0c96-4e9a-beca-5fd194161a25",
   "metadata": {},
   "outputs": [
    {
     "name": "stdout",
     "output_type": "stream",
     "text": [
      "John Doe\n"
     ]
    }
   ],
   "source": [
    "first_name = \"John\"\n",
    "last_name = \"Doe\"\n",
    "full_name = first_name+\" \"+last_name\n",
    "print(full_name)"
   ]
  },
  {
   "cell_type": "raw",
   "id": "f4609cfc-2efc-4495-913e-0387431ac148",
   "metadata": {},
   "source": [
    "You have a variable with a value 5 . how would you resign the variable value to 10."
   ]
  },
  {
   "cell_type": "code",
   "execution_count": 24,
   "id": "0d702db4-87bd-4e32-a413-9dbea8a3ebf4",
   "metadata": {},
   "outputs": [
    {
     "name": "stdout",
     "output_type": "stream",
     "text": [
      "5\n",
      "10\n"
     ]
    }
   ],
   "source": [
    "x = 5 #assigning value to 5\n",
    "print(x)\n",
    "x = 10 #updating value to 10\n",
    "print(x)"
   ]
  },
  {
   "cell_type": "markdown",
   "id": "53791a40-7761-4f33-ae2b-f353031651b9",
   "metadata": {},
   "source": [
    "# Operators"
   ]
  },
  {
   "cell_type": "code",
   "execution_count": 4,
   "id": "8168d108-a757-41ec-bbf5-ccd778434ef6",
   "metadata": {},
   "outputs": [
    {
     "name": "stdout",
     "output_type": "stream",
     "text": [
      "30\n",
      "hello Suyog\n"
     ]
    }
   ],
   "source": [
    "#Arithmetic Operators : to perform Arithemetic operations.\n",
    "# '+'Operator: '+\"operator to perform addition.\n",
    "a = 10\n",
    "b = 20\n",
    "print(a+b) \n",
    "c = \"hello\"\n",
    "d = \"Suyog\"\n",
    "print(c+\" \"+d)\n",
    "# print(c+a) # can only concatenate str (not \"int\") to str"
   ]
  },
  {
   "cell_type": "code",
   "execution_count": 41,
   "id": "740273ff-bd6b-4ebe-8071-9819c7c66d16",
   "metadata": {},
   "outputs": [
    {
     "name": "stdout",
     "output_type": "stream",
     "text": [
      "5\n",
      "(2+2j)\n"
     ]
    }
   ],
   "source": [
    "# '-'Operator to perform subtraction operations\n",
    "x = 20\n",
    "y = 15\n",
    "print(x-y)\n",
    "z = 5+4j\n",
    "w = 3+2j\n",
    "print(z-w)\n"
   ]
  },
  {
   "cell_type": "code",
   "execution_count": 45,
   "id": "330d1ab2-66c0-4d9c-8b78-0ed9ad8af383",
   "metadata": {},
   "outputs": [
    {
     "name": "stdout",
     "output_type": "stream",
     "text": [
      "15\n",
      "hellohellohello\n"
     ]
    }
   ],
   "source": [
    "#'*\"operator used for multiplication operations\n",
    "m = 5\n",
    "n = 3\n",
    "print(m*n)\n",
    "str1 = \"hello\"\n",
    "print(str1*3)"
   ]
  },
  {
   "cell_type": "code",
   "execution_count": 3,
   "id": "da95d64e-f203-477f-8840-62b8644f879f",
   "metadata": {},
   "outputs": [
    {
     "name": "stdout",
     "output_type": "stream",
     "text": [
      "4.038461538461538\n",
      "(1.3846153846153848-0.07692307692307697j)\n"
     ]
    }
   ],
   "source": [
    "#'/'operator used for division\n",
    "e = 10.5\n",
    "f = 2.6\n",
    "print(e/f)\n",
    "\n",
    "g = 3+4j\n",
    "h = 2+3j\n",
    "print(g/h)\n"
   ]
  },
  {
   "cell_type": "code",
   "execution_count": 1,
   "id": "e306f71b-4007-4a2b-a382-8c3c35cba1dd",
   "metadata": {},
   "outputs": [
    {
     "name": "stdout",
     "output_type": "stream",
     "text": [
      "2\n"
     ]
    }
   ],
   "source": [
    "#'// floor division'\n",
    "i = 5\n",
    "j = 2\n",
    "print(i//j)"
   ]
  },
  {
   "cell_type": "code",
   "execution_count": 51,
   "id": "abd62714-d4d4-49a2-ac55-fdce57ff437a",
   "metadata": {},
   "outputs": [
    {
     "name": "stdout",
     "output_type": "stream",
     "text": [
      "1\n"
     ]
    }
   ],
   "source": [
    "#'%'operator for remainder\n",
    "i = 5\n",
    "j = 2\n",
    "print(i%j)"
   ]
  },
  {
   "cell_type": "code",
   "execution_count": 53,
   "id": "4bdb24bb-ee46-49a8-bda4-1e47e125daa8",
   "metadata": {},
   "outputs": [
    {
     "name": "stdout",
     "output_type": "stream",
     "text": [
      "9\n"
     ]
    }
   ],
   "source": [
    "#'**'Operator for power\n",
    "k = 3\n",
    "l = 2\n",
    "print(k**l)"
   ]
  },
  {
   "cell_type": "code",
   "execution_count": 55,
   "id": "972a09a4-526b-42db-a83a-0924694d38a4",
   "metadata": {},
   "outputs": [
    {
     "name": "stdout",
     "output_type": "stream",
     "text": [
      "<class 'bool'>\n",
      "<class 'bool'>\n"
     ]
    }
   ],
   "source": [
    "#Boolean Operator\n",
    "a = True\n",
    "b = False\n",
    "print(type(a))\n",
    "print(type(b))"
   ]
  },
  {
   "cell_type": "code",
   "execution_count": 57,
   "id": "b2c6a6a4-7ab7-4c7f-be37-1c5c08b65e16",
   "metadata": {},
   "outputs": [
    {
     "name": "stdout",
     "output_type": "stream",
     "text": [
      "False\n",
      "True\n",
      "False\n",
      "True\n",
      "False\n",
      "True\n"
     ]
    }
   ],
   "source": [
    "#Comparison Operator : Used to compare variable values.\n",
    "a = 10\n",
    "b = 20\n",
    "print(a>b)\n",
    "print(a<b)\n",
    "print(a==b)\n",
    "print(a!=b)\n",
    "print(a>=b)\n",
    "print(a<=b)\n",
    "\n"
   ]
  },
  {
   "cell_type": "code",
   "execution_count": 11,
   "id": "032c62a6-1655-4fb1-8915-a676a16b823c",
   "metadata": {},
   "outputs": [
    {
     "name": "stdout",
     "output_type": "stream",
     "text": [
      "20\n",
      "10\n",
      "True\n"
     ]
    }
   ],
   "source": [
    "#Logical Operator\n",
    "a = 10\n",
    "b = 20\n",
    "c = False\n",
    "print(a and b)\n",
    "print(a or b)\n",
    "print(not c)"
   ]
  },
  {
   "cell_type": "markdown",
   "id": "c40e4293-b3c7-4771-aca5-586e456056ff",
   "metadata": {},
   "source": [
    "# Practise Questions"
   ]
  },
  {
   "cell_type": "raw",
   "id": "5ccbc006-08bd-47e8-bfc6-e17967de8c5a",
   "metadata": {},
   "source": [
    "You have a data containing two record: \"Quantity\" and \"Price per Unit\". How would you use arithmetic operators to calculate the total cost for each item, also calculate the total cost? product 1, Quantity-5, Price per Unit Rs 250.  product 2, Quantity 25, Price per Unit Rs 656. product 3 Quantity 34, Price per Unit - Rs 274"
   ]
  },
  {
   "cell_type": "code",
   "execution_count": 74,
   "id": "f6c21d99-e431-4c77-a6a2-ef0f72aa9877",
   "metadata": {},
   "outputs": [
    {
     "name": "stdout",
     "output_type": "stream",
     "text": [
      "26966\n"
     ]
    }
   ],
   "source": [
    "first_item_price = 250\n",
    "first_item_unit = 5\n",
    "second_item_price = 656\n",
    "second_item_unit = 25\n",
    "third_item_price = 274\n",
    "third_item_unit= 34\n",
    "total_cost_first_item = first_item_price * first_item_unit\n",
    "total_cost_second_item = second_item_price * second_item_unit\n",
    "total_cost_third_item = third_item_price * third_item_unit\n",
    "total_cost = total_cost_first_item + total_cost_second_item + total_cost_third_item\n",
    "print(total_cost)\n"
   ]
  },
  {
   "cell_type": "raw",
   "id": "3f11d5ff-e8e9-463c-9f2a-1bfe7c2537fc",
   "metadata": {},
   "source": [
    "In a finance-based organization, the task is to calculate the simple interest given the pr amount, interest rate, and time period. The interest rate is 8%, the principal amount is Rs 15,00,000 and the time period is 3 years. Calculate the simple interest. Also, the threshold amount is 1,20,000. Please check if the calculated interest is greater or less than the threshold amount"
   ]
  },
  {
   "cell_type": "code",
   "execution_count": 80,
   "id": "4f2c10bb-d5c3-47c4-80d1-2aa42cef001b",
   "metadata": {},
   "outputs": [
    {
     "name": "stdout",
     "output_type": "stream",
     "text": [
      "The simple intrest is rs  360000.0\n"
     ]
    }
   ],
   "source": [
    "r = 8\n",
    "p = 1500000\n",
    "t = 3\n",
    "threshold = 120000\n",
    "simple_intrest = (p*r*t)/100\n",
    "print(\"The simple intrest is rs \",simple_intrest)"
   ]
  },
  {
   "cell_type": "raw",
   "id": "fe3c98e4-aab6-4dab-85de-45f1ea35054c",
   "metadata": {},
   "source": [
    "Write a program to calculate area of a circle with radius is 12 cm"
   ]
  },
  {
   "cell_type": "code",
   "execution_count": 82,
   "id": "042f29e8-9291-4c54-8bb0-dbecacb6a6f1",
   "metadata": {},
   "outputs": [
    {
     "name": "stdout",
     "output_type": "stream",
     "text": [
      "452.15999999999997\n"
     ]
    }
   ],
   "source": [
    "r = 12\n",
    "pi = 3.14\n",
    "area = pi*r*r\n",
    "print(area)"
   ]
  },
  {
   "cell_type": "markdown",
   "id": "473cd44d-7263-4dbe-b2af-855f00d493d8",
   "metadata": {},
   "source": [
    "# Built in Functions"
   ]
  },
  {
   "cell_type": "code",
   "execution_count": 89,
   "id": "e04025ff-1b84-4cf1-8b60-c64448e5ec7e",
   "metadata": {},
   "outputs": [
    {
     "name": "stdout",
     "output_type": "stream",
     "text": [
      "<class 'int'>\n",
      "10.0\n",
      "<class 'float'>\n"
     ]
    }
   ],
   "source": [
    "#float() function\n",
    "num_int = 10\n",
    "print(type(num_int))\n",
    "a = float(num_int)\n",
    "print(a)\n",
    "print(type(a))"
   ]
  },
  {
   "cell_type": "code",
   "execution_count": 15,
   "id": "3309df5a-c2b5-464b-8f1d-ac7723b126c8",
   "metadata": {},
   "outputs": [
    {
     "name": "stdout",
     "output_type": "stream",
     "text": [
      "5\n",
      "<class 'int'>\n",
      "10\n",
      "<class 'int'>\n"
     ]
    }
   ],
   "source": [
    "#int() function\n",
    "a = 5.41\n",
    "b = \"10\"\n",
    "c = int(a)\n",
    "d = int(b)\n",
    "print(c)\n",
    "print(type(c))\n",
    "print(d)\n",
    "print(type(d))"
   ]
  },
  {
   "cell_type": "code",
   "execution_count": 93,
   "id": "1898c544-002b-4d18-924c-47917445281d",
   "metadata": {},
   "outputs": [
    {
     "name": "stdout",
     "output_type": "stream",
     "text": [
      "<class 'int'>\n",
      "56\n",
      "<class 'str'>\n"
     ]
    }
   ],
   "source": [
    "#str() function\n",
    "a = 56\n",
    "print(type(a))\n",
    "b = str(a)\n",
    "print(b)\n",
    "print(type(b))"
   ]
  },
  {
   "cell_type": "code",
   "execution_count": 95,
   "id": "76ed306b-a1d6-41d8-9df6-579e2a4a5678",
   "metadata": {},
   "outputs": [
    {
     "name": "stdout",
     "output_type": "stream",
     "text": [
      "(6+8j)\n"
     ]
    }
   ],
   "source": [
    "#complex() function\n",
    "comp = complex(6,8)\n",
    "print(comp)\n",
    "\n"
   ]
  },
  {
   "cell_type": "code",
   "execution_count": 97,
   "id": "0f2e44e0-5037-40b8-9f30-688cec4ba193",
   "metadata": {},
   "outputs": [
    {
     "name": "stdout",
     "output_type": "stream",
     "text": [
      "23\n"
     ]
    }
   ],
   "source": [
    "#abs() function\n",
    "x = -23\n",
    "print(abs(x))"
   ]
  },
  {
   "cell_type": "code",
   "execution_count": 99,
   "id": "52690415-fd82-4f06-aa22-7669cfbcb01f",
   "metadata": {},
   "outputs": [
    {
     "name": "stdout",
     "output_type": "stream",
     "text": [
      "5\n"
     ]
    }
   ],
   "source": [
    "#len() function\n",
    "a = \"hello\"\n",
    "print(len(a))"
   ]
  },
  {
   "cell_type": "markdown",
   "id": "20d9c603-a939-41b9-a2fa-62dfd5e9a889",
   "metadata": {},
   "source": [
    "# practise Question"
   ]
  },
  {
   "cell_type": "raw",
   "id": "b1a5c50d-a6c6-469b-a014-e037b7e32ada",
   "metadata": {},
   "source": [
    "In a game application, the player's score is stored as a floating-point number. However, for leaderboard display, you need to convert the score to an integer. How would you use the int() function to convert the player's score from floating-point to integer format? pls solve this with code, player score 1234.56\n"
   ]
  },
  {
   "cell_type": "code",
   "execution_count": 102,
   "id": "3129f8bf-f891-4533-acfc-f6c09d5964e2",
   "metadata": {},
   "outputs": [
    {
     "name": "stdout",
     "output_type": "stream",
     "text": [
      "1234\n"
     ]
    }
   ],
   "source": [
    "score = 1234.56\n",
    "integer_score = int(1234.56)\n",
    "print(integer_score)"
   ]
  },
  {
   "cell_type": "raw",
   "id": "4180cb2b-018f-4f2d-bf4c-94954a35fb2a",
   "metadata": {},
   "source": [
    "In a customer relationship management (CRM) system for a retail company, you have a database containing customer records. How would you use the len() function to find the total number of customers in the database, allowing the company to track its customer base?\n",
    "\n",
    "customer_database = [\n",
    "\n",
    "(1, John Doe, john@example.com'),\n",
    "\n",
    "(2, 'Jane Smith', 'jane@example.com'),\n",
    "\n",
    "(3, 'Alice Johnson', 'alice@example.com'),\n",
    " ]"
   ]
  },
  {
   "cell_type": "code",
   "execution_count": 112,
   "id": "b6b68455-826b-43bc-a9e0-1a24a5465ea0",
   "metadata": {},
   "outputs": [
    {
     "name": "stdout",
     "output_type": "stream",
     "text": [
      "3\n"
     ]
    }
   ],
   "source": [
    "customer_database = [\n",
    "\n",
    "(1, 'John Doe', 'john@example.com'),\n",
    "\n",
    "(2, 'Jane Smith', 'jane@example.com'),\n",
    "\n",
    "(3, 'Alice Johnson', 'alice@example.com'),\n",
    " ]\n",
    "total_customers = len(customer_database)\n",
    "print(total_customers)"
   ]
  },
  {
   "cell_type": "raw",
   "id": "c602d59b-d6e2-4c06-8a22-10a3209939d7",
   "metadata": {},
   "source": [
    "You're developing a financial application that calculates simple interest. The principal amount is 250000 Rs, the interest rate is 9.34567%, and the time period is 3 years. Calculate the Simple Interest (SI), and the final value should be an integer."
   ]
  },
  {
   "cell_type": "code",
   "execution_count": 114,
   "id": "2d20eea3-6227-486d-a023-4052c8692c21",
   "metadata": {},
   "outputs": [
    {
     "name": "stdout",
     "output_type": "stream",
     "text": [
      "70092\n"
     ]
    }
   ],
   "source": [
    "p = 250000\n",
    "r = 9.34567\n",
    "t = 3\n",
    "simple_intrest = int((p*r*t)/100)\n",
    "print(simple_intrest)"
   ]
  },
  {
   "cell_type": "raw",
   "id": "cfa5d2ea-01ea-42f9-9f30-2a9e3b262ebd",
   "metadata": {},
   "source": [
    "You are working at travel company, responsible for managing passenger Information. You're working at a travel company.\n",
    "\n",
    "Due to a technical glitch in the booking systen, some passengers ages were mistakenly recorded as negative values. and it's essential to correct this data inconsistency values. However, , age cannot be negative,\n",
    "\n",
    "before further analysis or reporting.\n",
    "\n",
    "which function you will use to correct the ages of all passengers In the dataset shere negative ages were recorded dar to a to a teomical glitch?"
   ]
  },
  {
   "cell_type": "raw",
   "id": "9b0efbd7-f1f8-410f-a2eb-d60871ed6c0c",
   "metadata": {},
   "source": [
    "abs() function be used to make the age values positive"
   ]
  },
  {
   "cell_type": "code",
   "execution_count": null,
   "id": "66c817ff-579a-4364-968f-5345057e91b4",
   "metadata": {},
   "outputs": [],
   "source": [
    "#Bin() Function:\n",
    "used to convert an integer number to its binary represenatation as a string prefixed with '0b'.\n",
    "it takes an integer as an argument and returns its binary representation"
   ]
  },
  {
   "cell_type": "code",
   "execution_count": 116,
   "id": "9f2362db-6c19-4c27-8a10-f117208dc673",
   "metadata": {},
   "outputs": [
    {
     "name": "stdout",
     "output_type": "stream",
     "text": [
      "0b1010\n"
     ]
    }
   ],
   "source": [
    "binary_rep = bin(10)\n",
    "print(binary_rep)"
   ]
  },
  {
   "cell_type": "code",
   "execution_count": 118,
   "id": "d6d13b61-9f0a-413b-ab11-f6f68d51ac1a",
   "metadata": {},
   "outputs": [
    {
     "name": "stdout",
     "output_type": "stream",
     "text": [
      "0b11001000\n"
     ]
    }
   ],
   "source": [
    "z = bin(200)\n",
    "print(z)"
   ]
  },
  {
   "cell_type": "code",
   "execution_count": null,
   "id": "9828fea3-38c0-4347-898b-87827882e7f3",
   "metadata": {},
   "outputs": [],
   "source": [
    "#Sum function:\n",
    "Used to calculate the sum of elements in an iterable such as lists,tuples and other iterable objects."
   ]
  },
  {
   "cell_type": "code",
   "execution_count": 122,
   "id": "710abb19-821a-4ca9-b8fa-33b21f3080aa",
   "metadata": {},
   "outputs": [
    {
     "name": "stdout",
     "output_type": "stream",
     "text": [
      "150\n"
     ]
    }
   ],
   "source": [
    "my_list = [10,20,30,40,50]\n",
    "a = sum(my_list)\n",
    "print(a)"
   ]
  },
  {
   "cell_type": "code",
   "execution_count": null,
   "id": "59b9a6db-8e8d-43e8-9e27-0ddee3553a5d",
   "metadata": {},
   "outputs": [],
   "source": [
    "#eval() function : evaluates a python expression stored in a string"
   ]
  },
  {
   "cell_type": "code",
   "execution_count": 126,
   "id": "af6c2f1d-adb2-49fc-a798-a7b8be679ae9",
   "metadata": {},
   "outputs": [
    {
     "name": "stdout",
     "output_type": "stream",
     "text": [
      "6.0\n",
      "<class 'str'>\n"
     ]
    }
   ],
   "source": [
    "exp = \"5/2+3.5\"\n",
    "print(eval(exp))\n",
    "print(type(exp))"
   ]
  },
  {
   "cell_type": "code",
   "execution_count": null,
   "id": "55a35953-3bc4-4a7a-9d9f-8b2553010474",
   "metadata": {},
   "outputs": [],
   "source": [
    "#help function : used to disply the documentation of modules , functions,classes,keywords. "
   ]
  },
  {
   "cell_type": "code",
   "execution_count": 128,
   "id": "0bd62a63-2c9c-44c2-a5a2-81e67da7b1d0",
   "metadata": {},
   "outputs": [
    {
     "name": "stdout",
     "output_type": "stream",
     "text": [
      "Help on built-in function print in module builtins:\n",
      "\n",
      "print(*args, sep=' ', end='\\n', file=None, flush=False)\n",
      "    Prints the values to a stream, or to sys.stdout by default.\n",
      "\n",
      "    sep\n",
      "      string inserted between values, default a space.\n",
      "    end\n",
      "      string appended after the last value, default a newline.\n",
      "    file\n",
      "      a file-like object (stream); defaults to the current sys.stdout.\n",
      "    flush\n",
      "      whether to forcibly flush the stream.\n",
      "\n"
     ]
    }
   ],
   "source": [
    "help(print)"
   ]
  },
  {
   "cell_type": "code",
   "execution_count": null,
   "id": "801ff85a-da8f-47cb-9448-e70e3df4c892",
   "metadata": {},
   "outputs": [],
   "source": [
    "#input function : we can get input from user about anything . Datatype of input() is String.\n"
   ]
  },
  {
   "cell_type": "code",
   "execution_count": 138,
   "id": "4cef0eaa-ce13-44d5-b4d5-65731ae01808",
   "metadata": {},
   "outputs": [
    {
     "name": "stdin",
     "output_type": "stream",
     "text": [
      "First number:  10\n",
      "Second number:  20\n"
     ]
    },
    {
     "name": "stdout",
     "output_type": "stream",
     "text": [
      "30\n"
     ]
    }
   ],
   "source": [
    "#get two numbers from the user and calculate there sum\n",
    "first_no = int(input(\"First number: \"))\n",
    "second_no = int(input(\"Second number: \"))\n",
    "\n",
    "print(first_no + second_no)\n"
   ]
  },
  {
   "cell_type": "code",
   "execution_count": 21,
   "id": "07e33dd2-a593-46e7-a411-2715ef99bac3",
   "metadata": {},
   "outputs": [
    {
     "name": "stdin",
     "output_type": "stream",
     "text": [
      "first Student course name p\n",
      "first student age 24\n",
      "second student course c\n",
      "second student age 25\n",
      "third student course m\n",
      "third student course 26\n"
     ]
    },
    {
     "name": "stdout",
     "output_type": "stream",
     "text": [
      "25.0\n"
     ]
    }
   ],
   "source": [
    "#write a python code for hostel students and ask them to mention them there course name and age . for 3 students and calculate there average age\n",
    "student_1_course = input(\"first Student course name\")\n",
    "student_1_age = int(input(\"first student age\"))\n",
    "student_2_course = input(\"second student course\")\n",
    "student_2_age = int(input(\"second student age\"))\n",
    "student_3_course = input(\"third student course\")\n",
    "student_3_age = int(input(\"third student course\"))\n",
    "avg_age = (student_1_age + student_2_age + student_3_age)/3\n",
    "print(avg_age)\n",
    "    \n"
   ]
  },
  {
   "cell_type": "raw",
   "id": "9bf9587c-2fda-4545-b5a9-aec678d8439f",
   "metadata": {},
   "source": [
    "# As part of your role in a data-driven project, you need to take input from the user for their age, weight, and height. However, there's an Issue: the user has entered their age as a negative number. You need to correct the age of the user, and after correcting the age, calculate their Basal Metabolic Rate (w) using the Harris-Benedict equation for men. Ensure that the final answer of BMR is an integer.\n",
    "# Basal Metabolic Rate (BMR): Formula (Harris-Benedict egbation for men): BMR = 88.763 + (13.397 weight in kg) + (4.799 height in cm)- (5.677 age in years)"
   ]
  },
  {
   "cell_type": "code",
   "execution_count": 5,
   "id": "d19bc867-dc07-4e0f-844f-0ae498b454bb",
   "metadata": {},
   "outputs": [
    {
     "name": "stdin",
     "output_type": "stream",
     "text": [
      "Enter your age:  30\n",
      "Enter your weight:  65\n",
      "Enter height:  5.2\n"
     ]
    },
    {
     "name": "stdout",
     "output_type": "stream",
     "text": [
      "The value of BMR of patient is 814\n"
     ]
    }
   ],
   "source": [
    "age = int(input(\"Enter your age: \"))\n",
    "weight = int(input(\"Enter your weight: \"))\n",
    "height = float(input(\"Enter height: \"))\n",
    "correct_age = abs(age)\n",
    "BMR = \"88.763 + (13.397 * weight) + (4.799 * height) - (5.677 * age )\"\n",
    "bmr = eval(BMR)\n",
    "print(\"The value of BMR of patient is\",bmr)\n",
    "\n"
   ]
  },
  {
   "cell_type": "code",
   "execution_count": null,
   "id": "2e6e03c0-e17f-4e9b-94c1-631949e599c6",
   "metadata": {},
   "outputs": [],
   "source": [
    "1. You are developing a program for a math competition where participants need to solve mathematical expressions and provide the result.\n",
    "You want to use Python to automate the evaluation process. Here's how you could approach it:\n",
    "1) Take Input from the participant to enter a mathematical expression\n",
    "2) evaluate the expression entered by the participant and obtain the result.\n",
    "3)Display the result to the participant."
   ]
  },
  {
   "cell_type": "code",
   "execution_count": 1,
   "id": "c5890b6f-1902-4fc8-b1ed-173a2fe83bb6",
   "metadata": {},
   "outputs": [
    {
     "name": "stdin",
     "output_type": "stream",
     "text": [
      "Enter the expression :  2*5+4/3\n"
     ]
    },
    {
     "name": "stdout",
     "output_type": "stream",
     "text": [
      "result of the expression is:  11.333333333333334\n"
     ]
    }
   ],
   "source": [
    "expression = input(\"Enter the expression : \")\n",
    "result = eval(expression)\n",
    "print(\"result of the expression is: \",result)"
   ]
  },
  {
   "cell_type": "code",
   "execution_count": null,
   "id": "0ff92ca2-ea2d-494f-9f30-7c9ada525b86",
   "metadata": {},
   "outputs": [],
   "source": [
    "2. Suppose youre analyzing a dataset containing information about house prices in a city.\n",
    "Each record includes details such as the house size (in square feet), number of bedrooms, and price.\n",
    "You want to perform various calculations and manipulations on this dataset using Python. \n",
    "Answer the following questions:\n",
    "\n",
    "1) Ask the user 1 & 2 to enter house size, number of rooms they want and Check the data type user has entered\n",
    "\n",
    "2)Calculate the price of house, if per sq feet is Rs 5000.\n",
    "\n",
    "3) Threshold price is 75 lakh Rs, which user is paying the price above threshold price."
   ]
  },
  {
   "cell_type": "code",
   "execution_count": 3,
   "id": "03305ea8-6bee-483b-8726-bf8349baeb79",
   "metadata": {},
   "outputs": [
    {
     "name": "stdin",
     "output_type": "stream",
     "text": [
      "Enter house size:  1500\n",
      "Enter no of Bedrooms:  3\n",
      "Enter house size:  1800\n",
      "Enter no of Bedrooms:  4\n"
     ]
    },
    {
     "name": "stdout",
     "output_type": "stream",
     "text": [
      "The price of user_1 house is : 7500000.0\n",
      "The price of user_2 house is : 9000000.0\n",
      "user one is paying above threshold {True}\n",
      "user two is paying above threshold {True}\n"
     ]
    }
   ],
   "source": [
    "user_1_house_size = float(input(\"Enter house size: \"))\n",
    "user_1_no_Of_Bedrooms = int(input(\"Enter no of Bedrooms: \"))\n",
    "user_2_house_size = float(input(\"Enter house size: \"))\n",
    "user_2_no_Of_Bedrooms = int(input(\"Enter no of Bedrooms: \"))\n",
    "price_user_1 = user_1_house_size * 5000\n",
    "price_user_2 = user_2_house_size * 5000\n",
    "print(\"The price of user_1 house is :\",price_user_1)\n",
    "print(\"The price of user_2 house is :\",price_user_2)\n",
    "threshold_price = 7500000\n",
    "user1_threshold = price_user_1 >= threshold_price\n",
    "user2_threshold = price_user_2 >=threshold_price\n",
    "print(f\"user one is paying above threshold\",{user1_threshold})\n",
    "print(f\"user two is paying above threshold\",{user2_threshold})"
   ]
  },
  {
   "cell_type": "code",
   "execution_count": null,
   "id": "cf868eb6-b1c1-4e6e-b3a7-fc1cf98759e4",
   "metadata": {},
   "outputs": [],
   "source": [
    "3.You are working on a project to analyze stock market data.\n",
    "Create variables to store the stock symbol, current price, and percentage change in price.\n",
    "Then, calculate the new price after a 10% increase using arithmetic operators. \n",
    "Finally, prompt the user to enter their budget using the input() function, \n",
    "convert it to a float using the float() function, and compare it with the new price."
   ]
  },
  {
   "cell_type": "code",
   "execution_count": 5,
   "id": "0f4f08cb-e50c-482b-b26f-ca40e96f4930",
   "metadata": {},
   "outputs": [
    {
     "name": "stdout",
     "output_type": "stream",
     "text": [
      "110.00000000000001\n"
     ]
    },
    {
     "name": "stdin",
     "output_type": "stream",
     "text": [
      "Enter your budget 500\n"
     ]
    },
    {
     "name": "stdout",
     "output_type": "stream",
     "text": [
      "Users budget is more:   True\n"
     ]
    }
   ],
   "source": [
    "stock_symbol = \"xyz\"\n",
    "current_price = 100\n",
    "percentage_change = 10\n",
    "new_price = current_price * 1.1      #10% increase\n",
    "print(new_price)\n",
    "budget = float(input(\"Enter your budget\"))\n",
    "a = budget >= new_price\n",
    "print(\"Users budget is more:  \",a)"
   ]
  },
  {
   "cell_type": "code",
   "execution_count": null,
   "id": "02a12ecf-80b6-4471-8a07-16e21590cd18",
   "metadata": {},
   "outputs": [],
   "source": [
    "4. You are working on a project to analyze weather data.\n",
    "Create variables to store the current temperature, the minimum temperature recorded, and the maximum temperature recorded.\n",
    "Determine whether the current temperature is within the range of the minimum and maximum temperatures recorded using logical operators"
   ]
  },
  {
   "cell_type": "code",
   "execution_count": 7,
   "id": "9ff0575c-89f3-4edf-a75c-8da4f2526091",
   "metadata": {},
   "outputs": [
    {
     "name": "stdout",
     "output_type": "stream",
     "text": [
      "Temperature is between minimum and maximum:  True\n"
     ]
    }
   ],
   "source": [
    "current_temperature = 30\n",
    "minimum_temperature = 25\n",
    "maximum_temperature = 40\n",
    "a = ((current_temperature >= minimum_temperature) and (current_temperature <= maximum_temperature))\n",
    "print(\"Temperature is between minimum and maximum: \", a)"
   ]
  }
 ],
 "metadata": {
  "kernelspec": {
   "display_name": "Python 3 (ipykernel)",
   "language": "python",
   "name": "python3"
  },
  "language_info": {
   "codemirror_mode": {
    "name": "ipython",
    "version": 3
   },
   "file_extension": ".py",
   "mimetype": "text/x-python",
   "name": "python",
   "nbconvert_exporter": "python",
   "pygments_lexer": "ipython3",
   "version": "3.12.10"
  }
 },
 "nbformat": 4,
 "nbformat_minor": 5
}
