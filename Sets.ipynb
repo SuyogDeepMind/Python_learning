{
 "cells": [
  {
   "cell_type": "code",
   "execution_count": 1,
   "id": "59d78c5d-778b-415a-96de-1d89ac7401a1",
   "metadata": {},
   "outputs": [
    {
     "name": "stdout",
     "output_type": "stream",
     "text": [
      "{1, 2, 3, 4}\n",
      "<class 'set'>\n"
     ]
    }
   ],
   "source": [
    "#creation\n",
    "my_set = {1,2,3,4}\n",
    "print(my_set)\n",
    "print(type(my_set))"
   ]
  },
  {
   "cell_type": "code",
   "execution_count": 3,
   "id": "ced0b50e-acf1-4044-972d-cb178c772b0d",
   "metadata": {},
   "outputs": [
    {
     "name": "stdout",
     "output_type": "stream",
     "text": [
      "{1, 2, 3, 4}\n",
      "<class 'set'>\n"
     ]
    }
   ],
   "source": [
    "#using set() method\n",
    "another_set = set([1,2,3,4])\n",
    "print(another_set)\n",
    "print(type(another_set))"
   ]
  },
  {
   "cell_type": "code",
   "execution_count": 5,
   "id": "808da9b7-d46b-4abd-b656-c62a29be9f85",
   "metadata": {},
   "outputs": [
    {
     "name": "stdout",
     "output_type": "stream",
     "text": [
      "set()\n",
      "<class 'set'>\n"
     ]
    }
   ],
   "source": [
    "#empty set\n",
    "empty_set = set()\n",
    "print(empty_set)\n",
    "print(type(empty_set))"
   ]
  },
  {
   "cell_type": "code",
   "execution_count": null,
   "id": "46213f74-42cb-47cf-ac93-5c3f82dd1d1d",
   "metadata": {},
   "outputs": [],
   "source": [
    "#no indexing or slicing applicable"
   ]
  },
  {
   "cell_type": "code",
   "execution_count": 7,
   "id": "09ddd8db-3b0f-4fa5-89c0-9a5059bc8616",
   "metadata": {},
   "outputs": [
    {
     "name": "stdout",
     "output_type": "stream",
     "text": [
      "{10, 12, 13, 14}\n"
     ]
    }
   ],
   "source": [
    "#unique elements\n",
    "my_set = {10,12,13,10,14,10}\n",
    "print(my_set)\n"
   ]
  },
  {
   "cell_type": "code",
   "execution_count": 9,
   "id": "050c5ff1-7805-4397-a969-3e3a105b3011",
   "metadata": {},
   "outputs": [
    {
     "name": "stdout",
     "output_type": "stream",
     "text": [
      "10\n",
      "12\n",
      "13\n",
      "14\n"
     ]
    }
   ],
   "source": [
    "#iterable - we can\n",
    "my_set = {10,12,13,10,14,10}\n",
    "for element in my_set:\n",
    "    print(element)"
   ]
  },
  {
   "cell_type": "code",
   "execution_count": null,
   "id": "d4a6a993-7374-493c-8d22-a17c1cd1fdf1",
   "metadata": {},
   "outputs": [],
   "source": [
    "#hashable elements - set cannot contains mutable types like Lists or dictionary.\n"
   ]
  },
  {
   "cell_type": "code",
   "execution_count": 11,
   "id": "240fa89e-1d77-432d-9aef-63ae00183718",
   "metadata": {},
   "outputs": [
    {
     "name": "stdout",
     "output_type": "stream",
     "text": [
      "{1, 2, 3, 'a', (1, 2, 3)}\n"
     ]
    }
   ],
   "source": [
    "#set treats 1 or True as same and 0 or False as same\n",
    "my_set = {1,2,3,True,\"a\",(1,2,3)}\n",
    "print(my_set)"
   ]
  },
  {
   "cell_type": "code",
   "execution_count": null,
   "id": "39d437c7-d939-4738-aa71-ca6e25206796",
   "metadata": {},
   "outputs": [],
   "source": [
    "#nesting is not the property of set - we cannot add one set under another."
   ]
  },
  {
   "cell_type": "code",
   "execution_count": 15,
   "id": "1b498979-d7bc-44f1-81ae-5c64ea51df71",
   "metadata": {},
   "outputs": [
    {
     "name": "stdout",
     "output_type": "stream",
     "text": [
      "True\n"
     ]
    }
   ],
   "source": [
    "#check if item is present or not in set\n",
    "a = {\"data\",\"is\",\"new\"}\n",
    "print(\"data\" in a) #in keyword used to check if there is a value or not"
   ]
  },
  {
   "cell_type": "code",
   "execution_count": 17,
   "id": "1b0dd69d-339e-414b-9bc9-dc3c69440911",
   "metadata": {},
   "outputs": [
    {
     "name": "stdout",
     "output_type": "stream",
     "text": [
      "3\n"
     ]
    }
   ],
   "source": [
    "#length method\n",
    "a = {\"data\",\"is\",\"new\"}\n",
    "print(len(a))"
   ]
  },
  {
   "cell_type": "code",
   "execution_count": 19,
   "id": "93839b1e-1158-4b29-b1ed-445a81bf8ddf",
   "metadata": {},
   "outputs": [
    {
     "name": "stdout",
     "output_type": "stream",
     "text": [
      "{1, 2, 3, 10, 'a1', 'c1', 'b1'}\n"
     ]
    }
   ],
   "source": [
    "#once a set is created you cannot change the item but you can add new items\n",
    "a = {\"a1\",\"b1\",\"c1\",1,2,3}\n",
    "a.add(10)\n",
    "print(a)"
   ]
  },
  {
   "cell_type": "code",
   "execution_count": 21,
   "id": "a23bfa81-7cdd-452b-9498-c1a1d7acbe68",
   "metadata": {},
   "outputs": [
    {
     "name": "stdout",
     "output_type": "stream",
     "text": [
      "{1, 2, 3, 'a1', 'data', 'c1', 'b1', 'is', 'new'}\n"
     ]
    }
   ],
   "source": [
    "# update method - to combine two sets\n",
    "a = {\"a1\",\"b1\",\"c1\",1,2,3}\n",
    "b = {\"data\",\"is\",\"new\"}\n",
    "a.update(b)\n",
    "print(a)"
   ]
  },
  {
   "cell_type": "code",
   "execution_count": 23,
   "id": "7b8736e7-24b2-4821-81fe-fceadb9ee997",
   "metadata": {},
   "outputs": [
    {
     "name": "stdout",
     "output_type": "stream",
     "text": [
      "{1, 2, 3, 'a1', 'c1', 'b1', 'is', 'new'}\n"
     ]
    }
   ],
   "source": [
    "#remove method - to remove items from the set \n",
    "a = {1, 2, 3, 'a1', 'data', 'c1', 'b1', 'is', 'new'}\n",
    "a.remove(\"data\")\n",
    "print(a)"
   ]
  },
  {
   "cell_type": "code",
   "execution_count": 25,
   "id": "a013818a-66ed-4501-a05f-e3685c04c9b2",
   "metadata": {},
   "outputs": [
    {
     "name": "stdout",
     "output_type": "stream",
     "text": [
      "{2, 3, 'a1', 'data', 'c1', 'b1', 'is', 'new'}\n",
      "1\n"
     ]
    }
   ],
   "source": [
    "#pop method - to remove random element from set \n",
    "a = {1, 2, 3, 'a1', 'data', 'c1', 'b1', 'is', 'new'}\n",
    "b = a.pop()\n",
    "print(a)\n",
    "print(b)"
   ]
  },
  {
   "cell_type": "code",
   "execution_count": 27,
   "id": "64175e56-70f3-4f99-9efe-37f1596f5d95",
   "metadata": {},
   "outputs": [
    {
     "name": "stdout",
     "output_type": "stream",
     "text": [
      "set()\n"
     ]
    }
   ],
   "source": [
    "# clear method - to empty the set \n",
    "a = {1, 2, 3, 'a1', 'data', 'c1', 'b1', 'is', 'new'}\n",
    "a.clear()\n",
    "print(a)"
   ]
  },
  {
   "cell_type": "code",
   "execution_count": 31,
   "id": "e513e7ea-00dd-4371-82ae-15e8eeed3bb8",
   "metadata": {},
   "outputs": [],
   "source": [
    "#delete the set\n",
    "a = {1, 2, 3, 'a1', 'data', 'c1', 'b1', 'is', 'new'}\n",
    "del a "
   ]
  },
  {
   "cell_type": "code",
   "execution_count": 37,
   "id": "d4ce22f1-a7e9-4794-adeb-fcd567e9209d",
   "metadata": {},
   "outputs": [
    {
     "name": "stdout",
     "output_type": "stream",
     "text": [
      "{1, 2, 3, 'hello', 'a1', 'data', 'is'}\n"
     ]
    }
   ],
   "source": [
    "# to join to sets\n",
    "a = {1, 2, 3, 'a1', 'data'}\n",
    "b = {\"hello\",\"is\"}\n",
    "c = a.union(b)\n",
    "print(c)"
   ]
  },
  {
   "cell_type": "code",
   "execution_count": 39,
   "id": "9644fbcb-5e86-4a2c-b5f9-702de52657b9",
   "metadata": {},
   "outputs": [
    {
     "name": "stdout",
     "output_type": "stream",
     "text": [
      "6\n",
      "1\n"
     ]
    }
   ],
   "source": [
    "#print max and min value in a set\n",
    "a = {1,2,3,4,5,6}\n",
    "print(max(a))\n",
    "print(min(a))"
   ]
  },
  {
   "cell_type": "code",
   "execution_count": 47,
   "id": "6a77f9b6-ca70-4a6e-bd77-ec7d27370727",
   "metadata": {},
   "outputs": [
    {
     "name": "stdout",
     "output_type": "stream",
     "text": [
      "{1, 2, 3, 4, 5, 6}\n"
     ]
    }
   ],
   "source": [
    "#to find union of two sets\n",
    "set1 = {1,2,3}\n",
    "set2 = {4,5,6}\n",
    "union_set = set1.union(set2)\n",
    "print(union_set)"
   ]
  },
  {
   "cell_type": "code",
   "execution_count": 49,
   "id": "93d3248c-b09c-4209-9c46-7cfe5353099e",
   "metadata": {},
   "outputs": [
    {
     "name": "stdout",
     "output_type": "stream",
     "text": [
      "{3}\n"
     ]
    }
   ],
   "source": [
    "# to find intersection of two sets\n",
    "set1 = {1,2,3}\n",
    "set2 = {3,5,6}\n",
    "intersection_set = set1.intersection(set2)\n",
    "print(intersection_set)"
   ]
  },
  {
   "cell_type": "code",
   "execution_count": 55,
   "id": "34697395-b4e0-4f34-b08c-f98cff54aca3",
   "metadata": {},
   "outputs": [
    {
     "name": "stdout",
     "output_type": "stream",
     "text": [
      "{1, 2}\n"
     ]
    }
   ],
   "source": [
    "#difference method\n",
    "set1 = {1,2,3}\n",
    "set2 = {3,5,6}\n",
    "diff = set1.difference(set2) # ignore common elements and print set1 elements\n",
    "print(diff)"
   ]
  },
  {
   "cell_type": "code",
   "execution_count": 59,
   "id": "d1dafe2a-2a03-4937-b43b-4fea6b59412d",
   "metadata": {},
   "outputs": [
    {
     "name": "stdout",
     "output_type": "stream",
     "text": [
      "{5, 6}\n"
     ]
    }
   ],
   "source": [
    "set1 = {1,2,3}\n",
    "set2 = {3,5,6}\n",
    "diff = set2.difference(set1) # ignore common elements and print set2 elements\n",
    "print(diff)"
   ]
  },
  {
   "cell_type": "code",
   "execution_count": null,
   "id": "df95d33f-640d-47fe-928e-b912a1e9084d",
   "metadata": {},
   "outputs": [],
   "source": [
    "define two sets students passed math and students passed science containing student IDs who passed Math and Science respectively.\n",
    "Write Python code to\n",
    "1) Print the number of students who passed both Math and Science.\n",
    "2) Print the student IDs who passed only Math\n",
    "3) Print the student IDs who passed only Science\n",
    "4) Determine if students passed math is a subset of students passed_science\n",
    "5) Determine if students passed science is a superset of students passed_math"
   ]
  },
  {
   "cell_type": "code",
   "execution_count": 77,
   "id": "c01045b5-ae6f-437c-b30a-3b40041098c1",
   "metadata": {},
   "outputs": [
    {
     "name": "stdout",
     "output_type": "stream",
     "text": [
      "both passed are : {104, 105, 103}\n",
      "only Math passed are : {101, 102}\n",
      "Science passed are : {106, 107}\n",
      "False\n",
      "False\n"
     ]
    }
   ],
   "source": [
    "passed_math = {101,102,103,104,105}\n",
    "passed_science = {103,104,105,106,107}\n",
    "both_passed = passed_math.intersection(passed_science)\n",
    "print(\"both passed are :\",both_passed)\n",
    "print(\"only Math passed are :\",passed_math.difference(passed_science))\n",
    "print(\"Science passed are :\",passed_science.difference(passed_math))\n",
    "# print(passed_math in passed_science)\n",
    "print(passed_math.issubset(passed_science)) #issubset() used to check whether subset or not.\n",
    "print(passed_science.issubset(passed_math)) #issuperset() used to check superset or not. \n",
    "\n"
   ]
  },
  {
   "cell_type": "code",
   "execution_count": null,
   "id": "e7948501-3afd-415d-9876-c86950acc42e",
   "metadata": {},
   "outputs": [],
   "source": []
  }
 ],
 "metadata": {
  "kernelspec": {
   "display_name": "Python 3 (ipykernel)",
   "language": "python",
   "name": "python3"
  },
  "language_info": {
   "codemirror_mode": {
    "name": "ipython",
    "version": 3
   },
   "file_extension": ".py",
   "mimetype": "text/x-python",
   "name": "python",
   "nbconvert_exporter": "python",
   "pygments_lexer": "ipython3",
   "version": "3.12.4"
  }
 },
 "nbformat": 4,
 "nbformat_minor": 5
}
