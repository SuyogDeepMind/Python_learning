{
 "cells": [
  {
   "cell_type": "code",
   "execution_count": 1,
   "id": "c8dad589-99a8-4a31-8488-064b4a7af767",
   "metadata": {},
   "outputs": [
    {
     "name": "stdout",
     "output_type": "stream",
     "text": [
      "(10, 20, 30)\n",
      "<class 'tuple'>\n"
     ]
    }
   ],
   "source": [
    "a = (10,20,30)\n",
    "print(a)\n",
    "print(type(a))"
   ]
  },
  {
   "cell_type": "code",
   "execution_count": 3,
   "id": "3f07784a-0d7d-4461-854b-793542fd24bf",
   "metadata": {},
   "outputs": [
    {
     "name": "stdout",
     "output_type": "stream",
     "text": [
      "<class 'tuple'>\n"
     ]
    }
   ],
   "source": [
    "#empty tuple\n",
    "a = ()\n",
    "print(type(a))"
   ]
  },
  {
   "cell_type": "code",
   "execution_count": 9,
   "id": "63483366-e0d4-4467-aef9-c731b62f0fee",
   "metadata": {},
   "outputs": [
    {
     "name": "stdout",
     "output_type": "stream",
     "text": [
      "<class 'tuple'>\n",
      "<class 'int'>\n"
     ]
    }
   ],
   "source": [
    "#tuple with single element\n",
    "a = (1,) # tuple\n",
    "b = (1) #integer\n",
    "print(type(a))\n",
    "print(type(b))"
   ]
  },
  {
   "cell_type": "code",
   "execution_count": 11,
   "id": "f738a16b-f0c2-4bd7-a9c8-cb9d4eb3e407",
   "metadata": {},
   "outputs": [
    {
     "name": "stdout",
     "output_type": "stream",
     "text": [
      "(1, 'hello', True)\n",
      "<class 'tuple'>\n"
     ]
    }
   ],
   "source": [
    "mixed_tuple = (1,\"hello\",True)\n",
    "print(mixed_tuple)\n",
    "print(type(mixed_tuple))"
   ]
  },
  {
   "cell_type": "code",
   "execution_count": 13,
   "id": "b804e5f3-3172-4e53-9148-b93a3f3b4437",
   "metadata": {},
   "outputs": [
    {
     "name": "stdout",
     "output_type": "stream",
     "text": [
      "('hello', 3.2, (1, 2, 3))\n",
      "<class 'tuple'>\n"
     ]
    }
   ],
   "source": [
    "#nested tuples\n",
    "a = (\"hello\",3.2,(1,2,3))\n",
    "print(a)\n",
    "print(type(a))"
   ]
  },
  {
   "cell_type": "code",
   "execution_count": 19,
   "id": "d483eb2f-671c-48db-8ff5-f7558f7d04f4",
   "metadata": {},
   "outputs": [
    {
     "name": "stdout",
     "output_type": "stream",
     "text": [
      "()\n",
      "<class 'tuple'>\n"
     ]
    }
   ],
   "source": [
    "#tuple constructor to create empty tuple.\n",
    "empty = tuple() #tuple constructor\n",
    "print(empty)\n",
    "print(type(empty))"
   ]
  },
  {
   "cell_type": "code",
   "execution_count": 71,
   "id": "d3880395-2902-4cc6-aee0-cd1aef023d5f",
   "metadata": {},
   "outputs": [
    {
     "name": "stdout",
     "output_type": "stream",
     "text": [
      "(1, 2, 3, 4)\n",
      "<class 'tuple'>\n"
     ]
    }
   ],
   "source": [
    "#converting a list into a tuple\n",
    "List = [1,2,3,4]\n",
    "number = tuple(list)\n",
    "print(number)\n",
    "print(type(number))"
   ]
  },
  {
   "cell_type": "code",
   "execution_count": 21,
   "id": "361107e6-4787-4166-92c9-20e15f32480f",
   "metadata": {},
   "outputs": [
    {
     "name": "stdout",
     "output_type": "stream",
     "text": [
      "('h', 'e', 'l', 'l', 'o')\n",
      "<class 'tuple'>\n"
     ]
    }
   ],
   "source": [
    "#string to tuple\n",
    "str = \"hello\"\n",
    "tuple1 = tuple(str)\n",
    "print(tuple1)\n",
    "print(type(tuple1))"
   ]
  },
  {
   "cell_type": "code",
   "execution_count": 27,
   "id": "8ffdc6ac-90b5-48d5-893e-c8c5fd6991e4",
   "metadata": {},
   "outputs": [
    {
     "name": "stdout",
     "output_type": "stream",
     "text": [
      "{'a': 1, 'b': 2, 'c': 3}\n",
      "<class 'dict'>\n",
      "('a', 'b', 'c')\n",
      "<class 'tuple'>\n"
     ]
    }
   ],
   "source": [
    "#dictionary to tuple\n",
    "dict = {'a':1,'b':2,'c':3}\n",
    "print(dict)\n",
    "print(type(dict))\n",
    "tup = tuple(dict)\n",
    "print(tup)\n",
    "print(type(tup))"
   ]
  },
  {
   "cell_type": "code",
   "execution_count": 31,
   "id": "7f33b991-bcf0-4534-a2a1-4812208c6412",
   "metadata": {},
   "outputs": [
    {
     "name": "stdout",
     "output_type": "stream",
     "text": [
      "{1, 2, 3, 4}\n",
      "<class 'set'>\n",
      "(1, 2, 3, 4)\n",
      "<class 'tuple'>\n"
     ]
    }
   ],
   "source": [
    "#set to tuple\n",
    "set = {1,2,3,4}\n",
    "print(set)\n",
    "print(type(set))\n",
    "tup = tuple(set)\n",
    "print(tup)\n",
    "print(type(tup))"
   ]
  },
  {
   "cell_type": "code",
   "execution_count": 33,
   "id": "b09a75ff-f256-48ac-96c6-63aab84f935a",
   "metadata": {},
   "outputs": [
    {
     "name": "stdout",
     "output_type": "stream",
     "text": [
      "banana\n"
     ]
    }
   ],
   "source": [
    "#indexing\n",
    "tup = (\"apple\",\"banana\",\"cheery\",\"Mango\")\n",
    "print(tup[1])"
   ]
  },
  {
   "cell_type": "code",
   "execution_count": 35,
   "id": "68020b9a-a876-4c32-ac84-707a42abd4a8",
   "metadata": {},
   "outputs": [
    {
     "name": "stdout",
     "output_type": "stream",
     "text": [
      "Mango\n"
     ]
    }
   ],
   "source": [
    "#negative indexing\n",
    "tup = (\"apple\",\"banana\",\"cheery\",\"Mango\")\n",
    "print(tup[-1])"
   ]
  },
  {
   "cell_type": "code",
   "execution_count": 41,
   "id": "ad65d12f-1ada-4436-b147-67d86c1ef3b6",
   "metadata": {},
   "outputs": [
    {
     "name": "stdout",
     "output_type": "stream",
     "text": [
      "('b', 'c', 'd')\n",
      "('a', 'b', 'c', 'd', 'e')\n",
      "('a', 'c', 'e')\n"
     ]
    }
   ],
   "source": [
    "#slicing positive indexing\n",
    "tup = ('a','b','c','d','e')\n",
    "print(tup[1:4])\n",
    "print(tup[:])\n",
    "print(tup[::2])"
   ]
  },
  {
   "cell_type": "code",
   "execution_count": 143,
   "id": "d6d5418d-9ce9-432e-a7e6-c7b0d5dc4849",
   "metadata": {},
   "outputs": [
    {
     "name": "stdout",
     "output_type": "stream",
     "text": [
      "('a', 'b')\n",
      "('c', 'd', 'e')\n"
     ]
    }
   ],
   "source": [
    "#slicing negative indexing\n",
    "tup = ('a','b','c','d','e')\n",
    "print(tup[:-3])\n",
    "print(tup[-3:])"
   ]
  },
  {
   "cell_type": "code",
   "execution_count": 49,
   "id": "e826f949-4c89-4937-9817-be181f6a8cd9",
   "metadata": {},
   "outputs": [
    {
     "name": "stdout",
     "output_type": "stream",
     "text": [
      "('Mango', 'cheery', 'banana', 'apple')\n"
     ]
    }
   ],
   "source": [
    "#reversing the tuple\n",
    "tup = (\"apple\",\"banana\",\"cheery\",\"Mango\")\n",
    "print(tup[::-1])"
   ]
  },
  {
   "cell_type": "code",
   "execution_count": 51,
   "id": "c7ab07d9-1314-4958-b7ad-454ad4d7e9c7",
   "metadata": {},
   "outputs": [
    {
     "name": "stdout",
     "output_type": "stream",
     "text": [
      "(1, 2, 3, 4, 5, 6, 7, 8)\n"
     ]
    }
   ],
   "source": [
    "tup = (1,2,3,4,5,6,7,8)\n",
    "print(tup[::])"
   ]
  },
  {
   "cell_type": "code",
   "execution_count": 53,
   "id": "79ce03b0-5c7c-4fbe-abc7-d3c911a15203",
   "metadata": {},
   "outputs": [
    {
     "name": "stdout",
     "output_type": "stream",
     "text": [
      "2\n"
     ]
    }
   ],
   "source": [
    "#to count occurence of elements\n",
    "a = (12,14,15,12,13)\n",
    "print(a.count(12))"
   ]
  },
  {
   "cell_type": "code",
   "execution_count": 55,
   "id": "90badf38-dee7-4b8b-946d-d5bfc4e6b01c",
   "metadata": {},
   "outputs": [
    {
     "name": "stdout",
     "output_type": "stream",
     "text": [
      "2\n"
     ]
    }
   ],
   "source": [
    "#index() to find first occurence of an element\n",
    "a = (12,14,15,12,15,13)\n",
    "print(a.index(15))\n"
   ]
  },
  {
   "cell_type": "code",
   "execution_count": 77,
   "id": "88d4d2f4-9747-4872-8925-8d671e6c5c3f",
   "metadata": {},
   "outputs": [],
   "source": [
    "del list  # Remove the redefinition\n",
    "\n"
   ]
  },
  {
   "cell_type": "code",
   "execution_count": 83,
   "id": "26b9276e-d8d6-42ea-a0dc-92a765789278",
   "metadata": {},
   "outputs": [
    {
     "name": "stdout",
     "output_type": "stream",
     "text": [
      "('Data', 'is', 'the', 'new', 'oil')\n",
      "<class 'tuple'>\n",
      "['Data', 'is', 'the', 'new', 'oil']\n",
      "<class 'list'>\n"
     ]
    }
   ],
   "source": [
    "tup = (\"Data\",\"is\",\"the\",\"new\",\"oil\")\n",
    "print(tup)\n",
    "print(type(tup))\n",
    "List = list(tup)\n",
    "print(List)\n",
    "print(type(List))\n"
   ]
  },
  {
   "cell_type": "code",
   "execution_count": 93,
   "id": "d29b3e88-47ad-46e3-9452-d97c5664b4e3",
   "metadata": {},
   "outputs": [
    {
     "name": "stdout",
     "output_type": "stream",
     "text": [
      "[1, 2, 3]\n",
      "[1, 2, 3, 4]\n",
      "(1, 2, 3, 4)\n",
      "<class 'tuple'>\n"
     ]
    }
   ],
   "source": [
    "#add  items - by changing tuple into list and then adding items. directly we can't.\n",
    "tup = (1,2,3)\n",
    "List = list(tup)\n",
    "print(List)\n",
    "List.append(4)\n",
    "print(List)\n",
    "tup = tuple(List)\n",
    "print(tup)\n",
    "print(type(tup))"
   ]
  },
  {
   "cell_type": "code",
   "execution_count": 97,
   "id": "734b2935-3c62-447f-9216-0a8c002aab7e",
   "metadata": {},
   "outputs": [
    {
     "name": "stdout",
     "output_type": "stream",
     "text": [
      "(1, 2, 3, 'Data', 'is', 'the', 'new', 'oil')\n"
     ]
    }
   ],
   "source": [
    "#adding tuple into a tuple \n",
    "tup1 = (1,2,3)\n",
    "tup2 = (\"Data\",\"is\",\"the\",\"new\",\"oil\")\n",
    "tup1+=tup2\n",
    "print(tup1)\n"
   ]
  },
  {
   "cell_type": "code",
   "execution_count": 107,
   "id": "b64b1922-5eda-4e8e-844e-e5ee904ffdbb",
   "metadata": {},
   "outputs": [
    {
     "name": "stdout",
     "output_type": "stream",
     "text": [
      "['Data', 'is', 'new', 'oil']\n",
      "('Data', 'is', 'new', 'oil')\n"
     ]
    }
   ],
   "source": [
    "#remove items from tuple - by changing tuple into list and then remove items. directly we can't.\n",
    "tup = (\"Data\",\"is\",\"the\",\"new\",\"oil\")\n",
    "List = list(tup)\n",
    "List.remove(\"the\") #Removing from the list.\n",
    "print(List)\n",
    "tup = tuple(List) #converting it to a tuple\n",
    "print(tup)"
   ]
  },
  {
   "cell_type": "code",
   "execution_count": 109,
   "id": "7a7503ac-c78e-4150-a4b6-66b333ab65b4",
   "metadata": {},
   "outputs": [
    {
     "name": "stdout",
     "output_type": "stream",
     "text": [
      "('Data', 'is', 'a', 'new', 'oil')\n"
     ]
    }
   ],
   "source": [
    "#changing the item into a tuple - by changing tuple into list and then change items. directly we can't.\n",
    "tup = (\"Data\",\"is\",\"the\",\"new\",\"oil\")\n",
    "List = list(tup)\n",
    "List[2] = \"a\"\n",
    "tup = tuple(List)\n",
    "print(tup)"
   ]
  },
  {
   "cell_type": "code",
   "execution_count": 139,
   "id": "7a59853c-ae96-4418-b21a-c0322cdd6bc5",
   "metadata": {},
   "outputs": [],
   "source": [
    "tup = (1,2,3) # deletes the tuple\n",
    "del tup\n",
    "#print(tup)\n"
   ]
  },
  {
   "cell_type": "code",
   "execution_count": 141,
   "id": "e1adc610-357d-497c-b932-eddfe2796698",
   "metadata": {},
   "outputs": [
    {
     "name": "stdout",
     "output_type": "stream",
     "text": [
      "('Data', 'is', 'the', 'new', 'oil', 'Data', 'is', 'the', 'new', 'oil')\n"
     ]
    }
   ],
   "source": [
    "#multiplying tuple\n",
    "tup = (\"Data\",\"is\",\"the\",\"new\",\"oil\")\n",
    "tup = tup*2\n",
    "print(tup)"
   ]
  }
 ],
 "metadata": {
  "kernelspec": {
   "display_name": "Python 3 (ipykernel)",
   "language": "python",
   "name": "python3"
  },
  "language_info": {
   "codemirror_mode": {
    "name": "ipython",
    "version": 3
   },
   "file_extension": ".py",
   "mimetype": "text/x-python",
   "name": "python",
   "nbconvert_exporter": "python",
   "pygments_lexer": "ipython3",
   "version": "3.12.10"
  }
 },
 "nbformat": 4,
 "nbformat_minor": 5
}
