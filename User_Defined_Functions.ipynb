{
 "cells": [
  {
   "cell_type": "code",
   "execution_count": 1,
   "id": "532f7583-f597-4d31-9698-b3d446b1bfef",
   "metadata": {},
   "outputs": [],
   "source": [
    "#creating function\n",
    "def my_function():\n",
    "    print(\"hello\")"
   ]
  },
  {
   "cell_type": "code",
   "execution_count": 5,
   "id": "71b052d0-f920-47ce-a087-9d5452bde045",
   "metadata": {},
   "outputs": [
    {
     "name": "stdout",
     "output_type": "stream",
     "text": [
      "hello\n"
     ]
    }
   ],
   "source": [
    "my_function() # calling a function"
   ]
  },
  {
   "cell_type": "code",
   "execution_count": 9,
   "id": "e376b25a-b6c9-4bf8-8f17-eab8214cb22a",
   "metadata": {},
   "outputs": [],
   "source": [
    "def details_bill():\n",
    "    print(\"the last date to pay the bill is next sunday\")\n",
    "    print(\"after deadline you need to pay 100 rs a fine\")\n",
    "    "
   ]
  },
  {
   "cell_type": "code",
   "execution_count": 13,
   "id": "a1ddd083-5e59-4d8e-80bc-b601000083b5",
   "metadata": {},
   "outputs": [
    {
     "name": "stdin",
     "output_type": "stream",
     "text": [
      "Your name :  suyog\n",
      "No of units consumed :  50\n"
     ]
    },
    {
     "name": "stdout",
     "output_type": "stream",
     "text": [
      "Total amount you need to pay is rs :  500.0\n",
      "the last date to pay the bill is next sunday\n",
      "after deadline you need to pay 100 rs a fine\n"
     ]
    }
   ],
   "source": [
    "for i in range(1):\n",
    "    a = input(\"Your name : \")\n",
    "    b = float(input(\"No of units consumed : \"))\n",
    "    bill = b*10\n",
    "    print(\"Total amount you need to pay is rs : \",bill)\n",
    "    details_bill()\n",
    "    "
   ]
  },
  {
   "cell_type": "code",
   "execution_count": 15,
   "id": "a3ffad86-f952-4d3e-86f5-403bedd7d04f",
   "metadata": {},
   "outputs": [],
   "source": [
    "#check whether a number is even or odd.\n",
    "def even_or_odd(num):\n",
    "    if num%2 == 0:\n",
    "        print(\"Even\")\n",
    "    else:print(\"no is odd\")"
   ]
  },
  {
   "cell_type": "code",
   "execution_count": 17,
   "id": "61a93fe9-5104-4670-a1f4-d7c996dcb346",
   "metadata": {},
   "outputs": [
    {
     "name": "stdout",
     "output_type": "stream",
     "text": [
      "Even\n"
     ]
    }
   ],
   "source": [
    "even_or_odd(24)"
   ]
  },
  {
   "cell_type": "code",
   "execution_count": 19,
   "id": "2d6a4f1e-ec5a-4f8b-a5c2-6dc6eaa79aac",
   "metadata": {},
   "outputs": [],
   "source": [
    "#print your name as a function\n",
    "def name(fname,lname):\n",
    "    print(fname+\" \"+lname)"
   ]
  },
  {
   "cell_type": "code",
   "execution_count": 21,
   "id": "3ca6cda4-4756-4fac-a769-b7b0bd444788",
   "metadata": {},
   "outputs": [
    {
     "name": "stdout",
     "output_type": "stream",
     "text": [
      "Suyog Manke\n"
     ]
    }
   ],
   "source": [
    "name(\"Suyog\",\"Manke\")"
   ]
  },
  {
   "cell_type": "code",
   "execution_count": null,
   "id": "babf0698-1bcc-4c85-b2a1-839b3d226a08",
   "metadata": {},
   "outputs": [],
   "source": [
    "Write a user defined to process the following exam score and calculate the following statistics\n",
    "The average exam score\n",
    "The lowest exam score\n",
    "The highest exam score\n",
    "The number of students who passed the exam ( who scored 80 or above)\n",
    "The number of student who failed the exam \n",
    "exam_score = [85,92,78,90,88,95,82,79,87,91]\n",
    "\n"
   ]
  },
  {
   "cell_type": "code",
   "execution_count": 29,
   "id": "8a1bd7bb-a6d8-4fcc-92a8-84c442e17eaa",
   "metadata": {},
   "outputs": [],
   "source": [
    "def calculate_exam_score(exam_score):\n",
    "    number_of_students = len(exam_score)\n",
    "    average_score = sum(exam_score) / number_of_students\n",
    "    highest_score = max(exam_score)\n",
    "    lowest_score = min(exam_score)\n",
    "\n",
    "    num_passed = 0\n",
    "    for i in exam_score:\n",
    "        if i >= 80:\n",
    "            num_passed = num_passed + 1\n",
    "\n",
    "    num_failed = number_of_students - num_passed\n",
    "    return average_score, highest_score, lowest_score, num_passed, num_failed\n",
    "    \n",
    "    "
   ]
  },
  {
   "cell_type": "code",
   "execution_count": 31,
   "id": "b0d9212a-10cd-4015-b5aa-83a19ab90b67",
   "metadata": {},
   "outputs": [
    {
     "name": "stdout",
     "output_type": "stream",
     "text": [
      "The average score is: 86.7\n",
      "The highest score is: 95\n",
      "The lowest score is: 78\n",
      "The number of students passed is: 8\n",
      "The number of students failed is: 2\n"
     ]
    }
   ],
   "source": [
    "exam_score = [85, 92, 78, 90, 88, 95, 82, 79, 87, 91]  # Moved this outside function call\n",
    "\n",
    "average_score, highest_score, lowest_score, num_passed, num_failed = calculate_exam_score(exam_score)\n",
    "\n",
    "print(\"The average score is:\", average_score)  # Fixed formatting (capitalized \"The\")\n",
    "print(\"The highest score is:\", highest_score)\n",
    "print(\"The lowest score is:\", lowest_score)\n",
    "print(\"The number of students passed is:\", num_passed)\n",
    "print(\"The number of students failed is:\", num_failed)\n"
   ]
  },
  {
   "cell_type": "code",
   "execution_count": null,
   "id": "3d59a027-dddf-40b6-b772-d04f9a22622c",
   "metadata": {},
   "outputs": [],
   "source": [
    "You are tasked with creating a program to calculate the sum of squares of first n natural number,where n is entered by the user\n",
    "write a prompt to ask user to enter a postive number\n",
    "Use a loop to calculate the sum of squares of first n natural number\n",
    "Define a user defined function to calculate the following.\n",
    "    "
   ]
  },
  {
   "cell_type": "code",
   "execution_count": 1,
   "id": "ab22d2c4-7457-461e-8365-3a85ab65ab7b",
   "metadata": {},
   "outputs": [],
   "source": [
    "\n",
    "def sum_squares(n):\n",
    "    total_sum = 0\n",
    "    for n in range(1,n+1):\n",
    "        total_sum = total_sum + n*n\n",
    "    return total_sum"
   ]
  },
  {
   "cell_type": "code",
   "execution_count": 3,
   "id": "142e63ff-e266-40a6-b5e0-12a799f546cd",
   "metadata": {},
   "outputs": [
    {
     "name": "stdin",
     "output_type": "stream",
     "text": [
      "Enter the number :  3\n"
     ]
    },
    {
     "data": {
      "text/plain": [
       "14"
      ]
     },
     "execution_count": 3,
     "metadata": {},
     "output_type": "execute_result"
    }
   ],
   "source": [
    "n = int(input(\"Enter the number : \"))\n",
    "sum_squares(n)"
   ]
  },
  {
   "cell_type": "code",
   "execution_count": null,
   "id": "be154473-25eb-4dde-ac5f-8252d4cb8683",
   "metadata": {},
   "outputs": [],
   "source": [
    "You're creating a number guessing game where the computer generates a random number between 1 and 100, and the player has to guess it.\n",
    "Write Python code to generate a random number between 1 and 100. \n",
    "Use control flow statements and loops to allow the player to guess the number and provide feedback (too high, too low, or correct). \n",
    "Define a user-defined function to encapsulate the game logic and call this function to play the game."
   ]
  },
  {
   "cell_type": "code",
   "execution_count": 7,
   "id": "3affb71c-848e-4466-9316-a7251f65bc03",
   "metadata": {},
   "outputs": [],
   "source": [
    "import random\n",
    "def number_guessing_game():\n",
    "    secret_number = random.randint(1,100)\n",
    "    print(secret_number)\n",
    "    print(\"Welcome to the number guessing game \")\n",
    "    print(\"I have chosen number between 1 to 100 , can you guess it .\")\n",
    "\n",
    "    attempts = 0\n",
    "    guess = 0\n",
    "    while guess != secret_number:\n",
    "        guess = int(input(\"Enter your guess \"))\n",
    "        attempts = attempts + 1\n",
    "        \n",
    "        if guess < secret_number:\n",
    "            print(\"guess is low, Try again!\")\n",
    "        elif guess > secret_number:\n",
    "            print(\"guess is high,Try again!\")\n",
    "        else:\n",
    "            print(\"You have got it correct!\")\n",
    "            print(\"The number of attempts you required to guess is :\",attempts)"
   ]
  },
  {
   "cell_type": "code",
   "execution_count": 10,
   "id": "afaa6af6-1da6-47b9-be72-5c62f721d56d",
   "metadata": {},
   "outputs": [
    {
     "name": "stdout",
     "output_type": "stream",
     "text": [
      "44\n",
      "Welcome to the number guessing game \n",
      "I have chosen number between 1 to 100 , can you guess it .\n"
     ]
    },
    {
     "name": "stdin",
     "output_type": "stream",
     "text": [
      "Enter your guess  44\n"
     ]
    },
    {
     "name": "stdout",
     "output_type": "stream",
     "text": [
      "You have got it correct!\n",
      "The number of attempts you required to guess is : 1\n"
     ]
    }
   ],
   "source": [
    "number_guessing_game()"
   ]
  },
  {
   "cell_type": "code",
   "execution_count": null,
   "id": "75a4975b-624c-46c0-b838-71f51f0b4969",
   "metadata": {},
   "outputs": [],
   "source": []
  }
 ],
 "metadata": {
  "kernelspec": {
   "display_name": "Python 3 (ipykernel)",
   "language": "python",
   "name": "python3"
  },
  "language_info": {
   "codemirror_mode": {
    "name": "ipython",
    "version": 3
   },
   "file_extension": ".py",
   "mimetype": "text/x-python",
   "name": "python",
   "nbconvert_exporter": "python",
   "pygments_lexer": "ipython3",
   "version": "3.12.10"
  }
 },
 "nbformat": 4,
 "nbformat_minor": 5
}
